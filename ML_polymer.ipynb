{
 "cells": [
  {
   "cell_type": "code",
   "execution_count": null,
   "metadata": {},
   "outputs": [],
   "source": []
  },
  {
   "attachments": {},
   "cell_type": "markdown",
   "id": "c37b5689",
   "metadata": {},
   "source": [
    "To-Do list:\n",
    "Read in dataset\n",
    "Train-Validation-Test splitting\n",
    "Clustering\n",
    "Plotting that\n",
    "Read the paper from exercise 5 (CNN)\n",
    "Implement CNN to identify motifs of the polymers"
   ]
  },
  {
   "cell_type": "markdown",
   "id": "6c8962c1",
   "metadata": {},
   "source": []
  }
 ],
 "metadata": {
  "kernelspec": {
   "display_name": "Python 3 (ipykernel)",
   "language": "python",
   "name": "python3"
  },
  "language_info": {
   "codemirror_mode": {
    "name": "ipython",
    "version": 3
   },
   "file_extension": ".py",
   "mimetype": "text/x-python",
   "name": "python",
   "nbconvert_exporter": "python",
   "pygments_lexer": "ipython3",
   "version": "3.7.12"
  }
 },
 "nbformat": 4,
 "nbformat_minor": 5
}
