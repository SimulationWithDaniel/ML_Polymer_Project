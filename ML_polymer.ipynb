{
 "cells": [
  {
   "attachments": {},
   "cell_type": "markdown",
   "id": "c37b5689",
   "metadata": {},
   "source": [
    "To-Do list:\n",
    "Read in dataset\n",
    "Train-Validation-Test splitting\n",
    "Clustering\n",
    "Plotting that\n",
    "Read the paper from exercise 5 (CNN)\n",
    "Implement CNN to identify motifs of the polymers"
   ]
  },
  {
   "cell_type": "markdown",
   "id": "6c8962c1",
   "metadata": {},
   "source": []
  },
  {
   "cell_type": "code",
   "execution_count": 2,
   "id": "a72a4ddb",
   "metadata": {},
   "outputs": [
    {
     "name": "stdout",
     "output_type": "stream",
     "text": [
      "Line Count:  20610\n",
      "Index 10 with SMILES O[C@]([C@]([H])(CO)O[C@](O)([H])[C@]([H])1O)([H])[C@@]1([H])O[C@]([C@@]([H])(CO)O[C@@](O)([H])[C@]([H])1O)([H])[C@@]1([H])N[C@]([C@@]([H])(CO)O[C@@](O)([H])[C@]([H])1N)([H])[C@@]1([H])O[C@]([C@@]([H])(CO)O[C@@](O)([H])[C@]([H])1N)([H])[C@@]1([H])O[C@]([C@@]([H])(CO)O[C@@](O)([H])[C@]([H])1O)([H])[C@@]1([H])N[C@]([C@@]([H])(CO)O[C@@](O)([H])[C@]([H])1O)([H])[C@@]1([H])N[C@]([C@]([H])(CO)O[C@](O)([H])[C@]([H])1O)([H])[C@@]1([H])O and label oligosaccharide\n"
     ]
    }
   ],
   "source": [
    "import csv\n",
    "import numpy as np\n",
    "\n",
    "csvfile = 'polymers_dataset.csv'\n",
    "rows = []\n",
    "with open(csvfile, 'r') as csv_file:\n",
    "     csv_reader = csv.reader(csv_file, dialect='excel', delimiter=',')\n",
    "     line_count = 0\n",
    "     for row in csv_reader:\n",
    "          if line_count == 0:\n",
    "               pass\n",
    "          else:\n",
    "               rows.append(row)\n",
    "          line_count += 1\n",
    "\n",
    "print('Line Count: ',line_count)\n",
    "index = 10\n",
    "print(f\"Index {rows[index][0]} with SMILES {rows[index][1]} and label {rows[index][2]}\")\n"
   ]
  },
  {
   "attachments": {},
   "cell_type": "markdown",
   "id": "f79edd18",
   "metadata": {},
   "source": [
    "row[X][1] is row, row[1][0] is smiles, row[1][0] is label, row[1][2] is label, row[1][3] until row[2050] is fingerprint"
   ]
  },
  {
   "cell_type": "code",
   "execution_count": 3,
   "id": "94a1ce59",
   "metadata": {},
   "outputs": [
    {
     "ename": "IndexError",
     "evalue": "list index out of range",
     "output_type": "error",
     "traceback": [
      "\u001b[0;31m---------------------------------------------------------------------------\u001b[0m",
      "\u001b[0;31mIndexError\u001b[0m                                Traceback (most recent call last)",
      "\u001b[0;32m/tmp/ipykernel_1464/3788424275.py\u001b[0m in \u001b[0;36m<module>\u001b[0;34m\u001b[0m\n\u001b[1;32m      4\u001b[0m \u001b[0msplit_validation\u001b[0m \u001b[0;34m=\u001b[0m \u001b[0;36m10\u001b[0m\u001b[0;34m\u001b[0m\u001b[0;34m\u001b[0m\u001b[0m\n\u001b[1;32m      5\u001b[0m \u001b[0msplit_test\u001b[0m \u001b[0;34m=\u001b[0m \u001b[0;36m10\u001b[0m\u001b[0;34m\u001b[0m\u001b[0;34m\u001b[0m\u001b[0m\n\u001b[0;32m----> 6\u001b[0;31m \u001b[0mtrain\u001b[0m \u001b[0;34m=\u001b[0m \u001b[0;34m[\u001b[0m\u001b[0mrows\u001b[0m\u001b[0;34m[\u001b[0m\u001b[0mi\u001b[0m\u001b[0;34m]\u001b[0m \u001b[0;32mfor\u001b[0m \u001b[0mi\u001b[0m \u001b[0;32min\u001b[0m \u001b[0mindices\u001b[0m\u001b[0;34m[\u001b[0m\u001b[0;34m:\u001b[0m\u001b[0mint\u001b[0m\u001b[0;34m(\u001b[0m\u001b[0msplit_train\u001b[0m\u001b[0;34m*\u001b[0m\u001b[0mline_count\u001b[0m\u001b[0;34m/\u001b[0m\u001b[0;36m100\u001b[0m\u001b[0;34m)\u001b[0m\u001b[0;34m]\u001b[0m\u001b[0;34m.\u001b[0m\u001b[0mtolist\u001b[0m\u001b[0;34m(\u001b[0m\u001b[0;34m)\u001b[0m\u001b[0;34m]\u001b[0m\u001b[0;34m\u001b[0m\u001b[0;34m\u001b[0m\u001b[0m\n\u001b[0m\u001b[1;32m      7\u001b[0m \u001b[0;31m#validation = [rows[rows[i] for i in indices[int(split_train*line_count/100):int((split_train+split_validation)*line_count/100)].tolist()]\u001b[0m\u001b[0;34m\u001b[0m\u001b[0;34m\u001b[0m\u001b[0;34m\u001b[0m\u001b[0m\n\u001b[1;32m      8\u001b[0m \u001b[0;31m#test = rows[int((split_train+split_validation)*line_count/100):int((split_train+split_validation+split_train)*line_count/100)]\u001b[0m\u001b[0;34m\u001b[0m\u001b[0;34m\u001b[0m\u001b[0;34m\u001b[0m\u001b[0m\n",
      "\u001b[0;32m/tmp/ipykernel_1464/3788424275.py\u001b[0m in \u001b[0;36m<listcomp>\u001b[0;34m(.0)\u001b[0m\n\u001b[1;32m      4\u001b[0m \u001b[0msplit_validation\u001b[0m \u001b[0;34m=\u001b[0m \u001b[0;36m10\u001b[0m\u001b[0;34m\u001b[0m\u001b[0;34m\u001b[0m\u001b[0m\n\u001b[1;32m      5\u001b[0m \u001b[0msplit_test\u001b[0m \u001b[0;34m=\u001b[0m \u001b[0;36m10\u001b[0m\u001b[0;34m\u001b[0m\u001b[0;34m\u001b[0m\u001b[0m\n\u001b[0;32m----> 6\u001b[0;31m \u001b[0mtrain\u001b[0m \u001b[0;34m=\u001b[0m \u001b[0;34m[\u001b[0m\u001b[0mrows\u001b[0m\u001b[0;34m[\u001b[0m\u001b[0mi\u001b[0m\u001b[0;34m]\u001b[0m \u001b[0;32mfor\u001b[0m \u001b[0mi\u001b[0m \u001b[0;32min\u001b[0m \u001b[0mindices\u001b[0m\u001b[0;34m[\u001b[0m\u001b[0;34m:\u001b[0m\u001b[0mint\u001b[0m\u001b[0;34m(\u001b[0m\u001b[0msplit_train\u001b[0m\u001b[0;34m*\u001b[0m\u001b[0mline_count\u001b[0m\u001b[0;34m/\u001b[0m\u001b[0;36m100\u001b[0m\u001b[0;34m)\u001b[0m\u001b[0;34m]\u001b[0m\u001b[0;34m.\u001b[0m\u001b[0mtolist\u001b[0m\u001b[0;34m(\u001b[0m\u001b[0;34m)\u001b[0m\u001b[0;34m]\u001b[0m\u001b[0;34m\u001b[0m\u001b[0;34m\u001b[0m\u001b[0m\n\u001b[0m\u001b[1;32m      7\u001b[0m \u001b[0;31m#validation = [rows[rows[i] for i in indices[int(split_train*line_count/100):int((split_train+split_validation)*line_count/100)].tolist()]\u001b[0m\u001b[0;34m\u001b[0m\u001b[0;34m\u001b[0m\u001b[0;34m\u001b[0m\u001b[0m\n\u001b[1;32m      8\u001b[0m \u001b[0;31m#test = rows[int((split_train+split_validation)*line_count/100):int((split_train+split_validation+split_train)*line_count/100)]\u001b[0m\u001b[0;34m\u001b[0m\u001b[0;34m\u001b[0m\u001b[0;34m\u001b[0m\u001b[0m\n",
      "\u001b[0;31mIndexError\u001b[0m: list index out of range"
     ]
    }
   ],
   "source": [
    "indices = np.arange(line_count)\n",
    "np.random.shuffle(indices)\n",
    "split_train = 80\n",
    "split_validation = 10\n",
    "split_test = 10\n",
    "train = [rows[i] for i in indices[:int(split_train*line_count/100)].tolist()]\n",
    "#validation = [rows[rows[i] for i in indices[int(split_train*line_count/100):int((split_train+split_validation)*line_count/100)].tolist()]\n",
    "#test = rows[int((split_train+split_validation)*line_count/100):int((split_train+split_validation+split_train)*line_count/100)]\n",
    "#train = rows[indices[:int(split_train*line_count/100)]]\n",
    "#validation = rows[int(split_train*line_count/100):int((split_train+split_validation)*line_count/100)]\n",
    "#test = rows[int((split_train+split_validation)*line_count/100):int((split_train+split_validation+split_train)*line_count/100)]\n",
    "print(len(train),len(validation),len(test),len(train)+len(validation)+len(test))\n",
    "print(len(rows))\n",
    "print(test[len(test)-1])"
   ]
  },
  {
   "cell_type": "code",
   "execution_count": null,
   "id": "a1e74d72",
   "metadata": {},
   "outputs": [],
   "source": []
  }
 ],
 "metadata": {
  "kernelspec": {
   "display_name": "Python 3 (ipykernel)",
   "language": "python",
   "name": "python3"
  },
  "language_info": {
   "codemirror_mode": {
    "name": "ipython",
    "version": 3
   },
   "file_extension": ".py",
   "mimetype": "text/x-python",
   "name": "python",
   "nbconvert_exporter": "python",
   "pygments_lexer": "ipython3",
   "version": "3.7.16"
  }
 },
 "nbformat": 4,
 "nbformat_minor": 5
}
