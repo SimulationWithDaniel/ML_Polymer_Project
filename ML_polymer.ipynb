{
 "cells": [
  {
   "attachments": {},
   "cell_type": "markdown",
   "id": "309093b6",
   "metadata": {},
   "source": [
    "## Importing and splitting the data"
   ]
  },
  {
   "cell_type": "code",
   "execution_count": 58,
   "id": "dbc84eff",
   "metadata": {},
   "outputs": [],
   "source": [
    "import csv\n",
    "import numpy as np\n",
    "from rdkit import Chem\n",
    "from rdkit.Chem import Draw"
   ]
  },
  {
   "attachments": {},
   "cell_type": "markdown",
   "id": "f4768ac9",
   "metadata": {},
   "source": [
    "Import the dataset"
   ]
  },
  {
   "cell_type": "code",
   "execution_count": 59,
   "id": "ce37dc65",
   "metadata": {},
   "outputs": [],
   "source": [
    "csvfile = 'polymers_dataset.csv'\n",
    "rows = []\n",
    "fingerprints = []\n",
    "nonzero_count = 0\n",
    "with open(csvfile, 'r') as csv_file:\n",
    "     csv_reader = csv.reader(csv_file, dialect='excel', delimiter=',')\n",
    "     line_count = 0\n",
    "     for row in csv_reader:\n",
    "          if line_count == 0:\n",
    "               pass\n",
    "          else:\n",
    "               rows.append([val for val in row[:3]])\n",
    "               fingerprints.append([int(val) for val in row[3:]])\n",
    "          line_count += 1\n"
   ]
  },
  {
   "attachments": {},
   "cell_type": "markdown",
   "id": "587f18dc",
   "metadata": {},
   "source": [
    "Printing a certain index with data"
   ]
  },
  {
   "cell_type": "code",
   "execution_count": 60,
   "id": "299c73ab",
   "metadata": {},
   "outputs": [
    {
     "name": "stdout",
     "output_type": "stream",
     "text": [
      "Number of polymers:  20609\n",
      "Index 411 with SMILES O[C@@]([C@]([H])(CO)O[C@](O)([H])[C@@]([H])1O)([H])[C@]1([H])O[C@]([C@]([H])(CO)O[C@](O)([H])[C@]([H])1O)([H])[C@]1([H])O[C@@]([C@]([H])(CO)O[C@](O)([H])[C@@]([H])1O)([H])[C@]1([H])O[C@]([C@@]([H])(CO)O[C@@](O)([H])[C@]([H])1O)([H])[C@@]1([H])N[C@@]([C@]([H])(CO)O[C@](O)([H])[C@@]([H])1O)([H])[C@]1([H])O[C@]([C@]([H])(CO)O[C@](O)([H])[C@]([H])1O)([H])[C@]1([H])O[C@@]([C@]([H])(CO)O[C@](O)([H])[C@@]([H])1O)([H])[C@]1([H])O\n",
      "Label:  oligosaccharide\n",
      "Fingerprint:  [0, 0, 0, 0, 0, 0, 0, 0, 0, 0, 0, 0, 0, 0, 0, 0, 0, 0, 0, 0, 0, 0, 0, 0, 0, 0, 0, 0, 0, 0, 0, 0, 0, 0, 0, 0, 0, 0, 0, 0, 0, 0, 0, 0, 0, 0, 0, 0, 0, 0, 0, 0, 0, 0, 0, 0, 0, 0, 0, 0, 1, 0, 0, 0, 0, 1, 0, 0, 0, 0, 0, 0, 0, 0, 0, 0, 0, 0, 0, 1, 1, 0, 0, 0, 0, 0, 0, 0, 0, 0, 0, 0, 1, 0, 0, 0, 0, 0, 0, 0, 0, 0, 0, 0, 0, 0, 0, 0, 0, 0, 0, 0, 0, 0, 0, 0, 0, 0, 0, 0, 0, 0, 0, 0, 0, 0, 0, 0, 1, 0, 0, 0, 0, 0, 0, 0, 0, 0, 0, 0, 0, 0, 0, 0, 0, 0, 0, 1, 0, 0, 0, 0, 0, 0, 0, 0, 0, 0, 1, 0, 0, 1, 0, 0, 0, 1, 0, 0, 0, 0, 0, 0, 0, 0, 0, 0, 0, 0, 0, 0, 0, 0, 0, 0, 0, 0, 0, 0, 0, 0, 0, 0, 0, 0, 0, 0, 0, 0, 0, 0, 0, 0, 0, 0, 0, 0, 0, 0, 0, 0, 0, 0, 0, 0, 0, 0, 1, 0, 0, 0, 0, 0, 1, 0, 0, 0, 0, 0, 0, 0, 0, 0, 0, 0, 0, 0, 0, 0, 0, 0, 0, 0, 0, 0, 0, 0, 0, 0, 0, 0, 0, 0, 0, 0, 0, 0, 0, 0, 0, 0, 0, 0, 0, 0, 1, 0, 0, 0, 0, 0, 0, 0, 0, 0, 0, 0, 0, 0, 0, 0, 0, 0, 0, 0, 0, 0, 0, 0, 0, 0, 0, 0, 0, 0, 0, 1, 0, 0, 0, 0, 0, 0, 0, 0, 1, 0, 0, 0, 0, 0, 0, 0, 0, 0, 0, 0, 0, 0, 0, 0, 0, 0, 0, 0, 0, 0, 1, 0, 0, 0, 0, 0, 0, 0, 0, 0, 0, 0, 0, 0, 0, 0, 0, 0, 0, 0, 0, 0, 0, 0, 0, 0, 0, 1, 0, 0, 0, 0, 0, 0, 0, 0, 0, 0, 0, 0, 0, 1, 0, 0, 0, 0, 0, 0, 0, 0, 0, 0, 0, 0, 0, 0, 1, 1, 0, 0, 0, 0, 0, 0, 0, 1, 0, 0, 0, 0, 0, 0, 0, 0, 0, 0, 0, 0, 0, 0, 0, 0, 0, 0, 0, 0, 0, 0, 0, 0, 0, 1, 0, 0, 0, 0, 0, 0, 0, 0, 0, 0, 1, 1, 0, 0, 1, 0, 0, 0, 0, 0, 0, 0, 0, 0, 0, 1, 0, 0, 0, 0, 0, 0, 0, 0, 0, 0, 0, 0, 0, 0, 0, 0, 0, 0, 0, 0, 0, 0, 0, 0, 0, 0, 0, 0, 0, 0, 0, 0, 0, 1, 0, 0, 0, 0, 0, 0, 0, 0, 0, 0, 0, 0, 0, 0, 1, 0, 0, 0, 0, 0, 0, 0, 0, 0, 0, 0, 0, 0, 0, 0, 0, 0, 0, 0, 0, 1, 0, 0, 0, 0, 0, 0, 0, 0, 0, 0, 0, 0, 0, 0, 0, 0, 0, 0, 0, 0, 0, 0, 0, 0, 0, 0, 0, 0, 1, 0, 0, 0, 0, 0, 0, 0, 0, 0, 0, 0, 0, 0, 0, 0, 0, 0, 0, 0, 0, 0, 0, 1, 1, 0, 0, 0, 0, 0, 0, 0, 0, 0, 1, 0, 1, 0, 0, 0, 0, 0, 0, 0, 0, 0, 0, 0, 0, 0, 0, 0, 0, 0, 0, 0, 0, 0, 0, 0, 0, 0, 0, 0, 0, 0, 0, 0, 1, 0, 0, 0, 0, 0, 1, 0, 0, 0, 0, 0, 0, 0, 0, 0, 0, 0, 0, 0, 0, 0, 0, 0, 0, 0, 0, 0, 0, 0, 0, 0, 0, 0, 0, 0, 0, 0, 0, 0, 0, 0, 0, 0, 1, 0, 1, 0, 0, 0, 0, 0, 0, 0, 0, 0, 0, 0, 0, 0, 0, 0, 0, 0, 0, 0, 0, 0, 0, 0, 0, 0, 0, 0, 0, 0, 0, 0, 0, 0, 0, 0, 0, 0, 0, 1, 0, 0, 0, 0, 0, 0, 0, 0, 0, 0, 0, 0, 0, 0, 0, 0, 0, 0, 0, 0, 0, 0, 0, 0, 0, 0, 0, 0, 0, 0, 0, 0, 0, 0, 0, 0, 1, 0, 0, 0, 0, 0, 0, 0, 0, 0, 0, 0, 0, 0, 0, 0, 0, 0, 0, 0, 0, 0, 0, 0, 0, 0, 1, 0, 0, 0, 0, 0, 0, 0, 0, 0, 0, 0, 1, 0, 0, 0, 0, 0, 0, 0, 0, 0, 0, 0, 0, 0, 0, 0, 0, 0, 0, 0, 0, 0, 0, 0, 0, 1, 0, 1, 0, 0, 0, 0, 0, 0, 0, 0, 0, 1, 0, 0, 0, 0, 0, 1, 0, 0, 0, 0, 0, 0, 0, 0, 0, 0, 0, 0, 0, 0, 0, 0, 0, 0, 0, 0, 0, 0, 0, 0, 0, 0, 0, 0, 0, 0, 0, 0, 0, 0, 0, 0, 0, 0, 0, 0, 0, 0, 0, 0, 0, 0, 1, 0, 0, 0, 0, 0, 0, 1, 0, 0, 0, 0, 0, 0, 0, 0, 0, 0, 0, 0, 0, 0, 0, 0, 0, 0, 0, 0, 0, 0, 1, 0, 0, 0, 0, 0, 0, 0, 0, 0, 0, 0, 0, 0, 0, 0, 0, 0, 0, 0, 0, 0, 0, 0, 0, 0, 0, 0, 0, 0, 0, 0, 0, 0, 0, 0, 0, 0, 0, 0, 0, 0, 0, 0, 0, 0, 1, 0, 0, 0, 0, 0, 0, 0, 0, 0, 0, 0, 0, 0, 0, 0, 0, 0, 0, 0, 0, 0, 0, 0, 0, 0, 0, 0, 0, 0, 0, 0, 0, 0, 0, 1, 0, 0, 0, 0, 0, 0, 0, 0, 0, 0, 0, 0, 0, 0, 0, 0, 0, 1, 0, 0, 0, 1, 0, 0, 0, 0, 0, 0, 0, 0, 0, 0, 0, 1, 0, 0, 0, 0, 0, 0, 0, 0, 0, 0, 0, 0, 0, 1, 0, 0, 0, 0, 0, 0, 0, 0, 0, 0, 0, 0, 0, 0, 0, 0, 0, 0, 0, 0, 0, 0, 0, 0, 0, 0, 0, 0, 0, 0, 0, 0, 0, 0, 0, 0, 1, 0, 0, 0, 0, 0, 0, 0, 0, 0, 0, 0, 0, 0, 0, 0, 0, 0, 0, 0, 0, 0, 0, 0, 0, 0, 0, 0, 0, 0, 0, 0, 0, 0, 0, 0, 0, 0, 0, 0, 0, 0, 0, 1, 0, 0, 0, 0, 0, 0, 0, 0, 0, 0, 0, 0, 0, 0, 0, 0, 0, 0, 0, 0, 0, 0, 0, 0, 0, 0, 0, 0, 0, 0, 0, 0, 0, 0, 0, 0, 0, 0, 0, 0, 0, 0, 0, 0, 0, 0, 0, 0, 0, 0, 0, 0, 1, 0, 0, 1, 0, 0, 0, 1, 0, 0, 0, 0, 0, 0, 0, 0, 0, 0, 0, 0, 0, 0, 0, 0, 0, 0, 0, 0, 0, 0, 1, 0, 0, 0, 0, 0, 0, 0, 0, 0, 0, 0, 0, 0, 0, 0, 0, 0, 0, 0, 0, 0, 0, 0, 0, 0, 0, 0, 0, 0, 0, 0, 0, 0, 0, 0, 0, 0, 0, 0, 0, 0, 0, 0, 1, 0, 1, 0, 0, 1, 0, 0, 1, 0, 0, 0, 0, 0, 0, 0, 0, 0, 0, 0, 0, 0, 0, 0, 0, 0, 0, 0, 0, 0, 0, 1, 0, 0, 0, 0, 0, 0, 0, 0, 0, 0, 0, 0, 0, 0, 0, 0, 1, 0, 0, 0, 1, 0, 0, 0, 0, 0, 0, 0, 0, 0, 0, 0, 0, 0, 0, 0, 0, 0, 0, 0, 0, 0, 0, 0, 0, 0, 0, 0, 0, 0, 0, 0, 0, 0, 0, 0, 0, 0, 0, 0, 0, 0, 0, 0, 0, 0, 0, 0, 0, 0, 0, 0, 0, 0, 0, 0, 0, 0, 0, 0, 0, 0, 0, 0, 0, 0, 0, 0, 0, 0, 0, 0, 0, 0, 0, 0, 0, 0, 0, 0, 0, 0, 0, 0, 0, 0, 0, 0, 0, 0, 0, 0, 1, 0, 0, 0, 0, 0, 0, 0, 1, 0, 0, 1, 1, 0, 0, 0, 0, 0, 0, 0, 0, 0, 0, 0, 0, 0, 0, 0, 0, 0, 0, 0, 0, 0, 0, 0, 0, 0, 0, 0, 0, 0, 0, 0, 0, 0, 0, 0, 0, 0, 0, 0, 0, 0, 0, 0, 0, 0, 0, 0, 0, 0, 0, 0, 0, 0, 0, 0, 0, 0, 0, 0, 0, 0, 0, 0, 0, 0, 0, 0, 0, 0, 0, 0, 0, 0, 0, 0, 0, 0, 0, 0, 0, 0, 1, 0, 0, 0, 0, 0, 0, 0, 0, 0, 0, 0, 0, 0, 0, 0, 0, 0, 0, 0, 0, 0, 0, 1, 0, 0, 1, 0, 0, 0, 0, 0, 0, 0, 0, 0, 0, 0, 0, 0, 0, 0, 0, 0, 0, 0, 1, 0, 0, 0, 0, 0, 1, 0, 0, 0, 0, 0, 0, 0, 0, 0, 0, 0, 0, 0, 0, 0, 0, 0, 0, 1, 0, 1, 0, 0, 0, 0, 0, 0, 0, 0, 0, 0, 0, 0, 0, 0, 0, 0, 0, 0, 0, 0, 0, 0, 0, 0, 0, 0, 0, 0, 0, 0, 0, 0, 0, 0, 0, 0, 0, 0, 0, 0, 0, 0, 0, 0, 0, 0, 0, 0, 0, 0, 0, 0, 0, 0, 0, 0, 0, 0, 0, 0, 0, 0, 1, 0, 0, 0, 0, 0, 0, 0, 0, 0, 0, 0, 0, 0, 1, 1, 0, 0, 0, 0, 0, 0, 0, 0, 0, 0, 0, 0, 0, 0, 0, 0, 0, 0, 0, 0, 0, 0, 0, 0, 0, 0, 0, 1, 0, 0, 0, 0, 0, 0, 0, 0, 0, 0, 0, 0, 0, 0, 0, 0, 0, 0, 0, 0, 1, 0, 0, 0, 0, 0, 0, 0, 0, 0, 0, 1, 0, 0, 0, 0, 0, 0, 0, 0, 0, 0, 0, 0, 0, 0, 0, 0, 0, 0, 0, 0, 0, 0, 0, 0, 0, 0, 0, 0, 0, 0, 0, 0, 0, 0, 0, 0, 0, 0, 0, 0, 0, 0, 1, 0, 0, 0, 0, 0, 0, 1, 0, 0, 0, 0, 0, 0, 0, 0, 0, 0, 0, 0, 0, 0, 0, 0, 0, 0, 0, 0, 0, 0, 0, 0, 0, 0, 0, 0, 0, 0, 0, 0, 0, 0, 0, 0, 0, 0, 1, 0, 0, 0, 0, 0, 0, 0, 0, 0, 0, 0, 0, 0, 0, 0, 0, 0, 0, 0, 0, 0, 0, 0, 0, 0, 0, 0, 0, 0, 0, 0, 0, 0, 1, 0, 0, 0, 0, 0, 0, 0, 0, 0, 0, 0, 0, 0, 0, 0, 0, 0, 0, 0, 0, 0, 0, 0, 0, 0, 0, 0, 0, 0, 0, 0, 0, 0, 0, 0, 0, 0, 1, 0, 0, 0, 0, 0, 0, 0, 0, 0, 0, 0, 0, 0, 0, 0, 0, 0, 0, 0, 0, 0, 0, 0, 0, 0, 0, 0, 0, 0, 0, 0, 0, 0, 0, 0, 0, 0, 0, 0, 0, 0, 0, 0, 1, 0, 0, 0, 0, 0, 0, 0, 0, 0, 0, 0, 0, 0, 0, 0, 0, 0, 0, 0, 0, 0, 0, 0, 0, 0, 0, 0, 0, 0, 0, 0, 0, 0, 0, 0, 0, 0, 1, 0, 1, 1, 0, 0, 0, 0, 0, 0, 0, 0, 0, 0, 0, 0, 1, 0, 0, 0, 0, 0, 0, 0, 0, 0, 0, 0, 0, 0, 0, 0, 1, 0, 0, 0, 0, 0, 0, 0, 0, 0, 0, 0, 0, 0, 0, 0, 0, 0, 0, 0, 0, 0, 0, 0, 0, 0, 0, 0, 0, 0, 0, 0, 1, 0, 0, 0, 0, 1, 0, 1, 0, 0, 0, 0, 0, 0, 0, 0, 0, 0, 0, 0, 0, 0, 0, 0, 0, 0, 0, 0, 0, 0, 0, 0, 0, 0, 0, 0, 0, 0, 0, 0, 0, 0, 0, 0, 0, 0, 0, 0, 0, 0, 0, 0, 0, 0, 0, 0, 0, 0, 0, 0, 0, 0, 0, 0, 0, 0]\n",
      "Fingerprints == 1:  99\n"
     ]
    }
   ],
   "source": [
    "nonzero_count = 0\n",
    "print('Number of polymers: ', len(rows))\n",
    "index = 411 #Change this value to see the data\n",
    "print(f\"Index {rows[index][0]} with SMILES {rows[index][1]}\")\n",
    "print('Label: ', rows[index][2])\n",
    "print('Fingerprint: ',fingerprints[index])\n",
    "for i in range(2048):\n",
    "     if fingerprints[index][i] != 0:\n",
    "          nonzero_count += 1\n",
    "print('Fingerprints == 1: ', nonzero_count)"
   ]
  },
  {
   "attachments": {},
   "cell_type": "markdown",
   "id": "f5c8b0d5",
   "metadata": {},
   "source": [
    "Splitting the data into training, validation and testing data"
   ]
  },
  {
   "cell_type": "code",
   "execution_count": 61,
   "id": "890f1136",
   "metadata": {},
   "outputs": [
    {
     "name": "stdout",
     "output_type": "stream",
     "text": [
      "16487 2060 2062 20609 20609\n",
      "['3468', 'OC(=O)[C@]([H])(CC1=CNC2=C1C=CC=C2)NC(=O)[C@]([H])(CCC(N)=O)NC(=O)[C@]([H])(CC1=CNC=N1)NC(=O)[C@]([H])(CCC(O)=O)NC(=O)[C@]([H])(C)NC(=O)[C@]([H])(CC(O)=O)NC(=O)[C@]([H])([H])N', 'peptide']\n",
      "[2, 0, 2, 1, 1, 1, 1, 0, 0, 0, 2, 1, 0, 0, 1, 1, 2, 0, 0, 2, 1, 0, 0, 2, 1, 0, 0, 2, 2, 0, 2, 2, 0, 2, 2, 2, 0, 0, 2, 0, 1, 0, 2, 1, 1, 0, 0, 2, 1, 2, 2, 2, 1, 2, 0, 2, 1, 1, 2, 0, 1, 0, 0, 1, 0, 0, 1, 2, 0, 2, 2, 2, 1, 1, 0, 0, 0, 0, 1, 0, 2, 1, 0, 2, 1, 1, 1, 1, 0, 1, 0, 0, 2, 0, 1, 1, 0, 0, 1, 0, 1, 2, 0, 0, 0, 1, 1, 1, 1, 0, 2, 1, 0, 2, 0, 1, 2, 1, 1, 2, 2, 0, 2, 2, 0, 1, 2, 1, 0, 1, 1, 0, 1, 0, 0, 1, 1, 2, 2, 1, 1, 1, 1, 2, 2, 0, 2, 2, 2, 1, 0, 0, 2, 2, 1, 0, 1, 2, 1, 0, 1, 0, 2, 2, 0, 2, 0, 1, 0, 0, 2, 0, 2, 2, 0, 0, 1, 0, 1, 1, 0, 2, 0, 0, 2, 2, 0, 1, 0, 1, 1, 2, 1, 1, 2, 2, 0, 1, 0, 1, 2, 2, 2, 2, 0, 0, 2, 1, 1, 0, 0, 0, 2, 2, 0, 2, 0, 2, 1, 1, 0, 0, 2, 0, 1, 0, 0, 0, 0, 2, 2, 0, 2, 1, 0, 2, 0, 0, 2, 1, 0, 0, 1, 2, 0, 2, 2, 1, 2, 0, 2, 2, 1, 1, 1, 2, 2, 0, 0, 2, 2, 0, 2, 0, 0, 1, 0, 2, 1, 1, 0, 2, 2, 1, 0, 2, 1, 0, 0, 1, 1, 0, 2, 1, 1, 0, 1, 1, 0, 2, 0, 1, 2, 0, 2, 2, 1, 1, 0, 1, 2, 0, 1, 0, 1, 1, 2, 2, 2, 1, 0, 2, 1, 2, 0, 2, 2, 0, 1, 2, 2, 1, 2, 0, 1, 1, 1, 2, 2, 2, 0, 2, 2, 1, 2, 2, 2, 1, 2, 2, 2, 2, 2, 0, 1, 2, 1, 2, 0, 0, 1, 2, 0, 1, 1, 0, 2, 0, 0, 1, 0, 1, 2, 0, 1, 2, 2, 2, 0, 0, 1, 2, 0, 2, 2, 0, 1, 1, 2, 2, 1, 0, 2, 2, 2, 1, 2, 0, 1, 1, 2, 1, 1, 1, 0, 1, 0, 2, 2, 1, 1, 0, 1, 1, 2, 1, 0, 0, 2, 0, 2, 1, 0, 2, 1, 0, 1, 2, 2, 2, 2, 2, 1, 2, 2, 0, 2, 1, 0, 1, 2, 2, 0, 0, 1, 0, 1, 2, 0, 2, 2, 1, 2, 1, 0, 2, 0, 1, 1, 0, 0, 0, 1, 0, 2, 0, 2, 2, 0, 0, 0, 2, 1, 0, 2, 0, 2, 1, 1, 2, 2, 1, 2, 2, 1, 1, 1, 2, 2, 1, 0, 0, 1, 2, 0, 2, 0, 0, 0, 2, 1, 0, 1, 0, 2, 2, 2, 0, 1, 1, 0, 0, 1, 2, 1, 1, 2, 0, 0, 2, 0, 0, 1, 2, 2, 1, 0, 1, 1, 2, 0, 1, 2, 2, 0, 2, 1, 1, 2, 2, 2, 1, 1, 2, 0, 1, 2, 2, 2, 0, 0, 2, 1, 0, 2, 2, 2, 0, 1, 0, 2, 2, 2, 2, 1, 2, 0, 1, 0, 1, 2, 1, 0, 0, 0, 2, 2, 2, 2, 0, 1, 1, 2, 2, 1, 1, 2, 0, 2, 0, 1, 0, 0, 1, 2, 1, 1, 1, 1, 2, 0, 1, 0, 2, 1, 1, 1, 0, 0, 1, 2, 0, 0, 2, 2, 2, 2, 2, 2, 1, 0, 2, 0, 2, 2, 0, 0, 0, 2, 2, 1, 1, 0, 0, 0, 2, 1, 0, 1, 0, 1, 2, 0, 2, 0, 1, 2, 2, 1, 1, 0, 1, 1, 0, 2, 2, 0, 1, 0, 0, 2, 1, 1, 1, 1, 1, 0, 0, 2, 0, 1, 2, 1, 1, 2, 1, 2, 0, 2, 1, 2, 0, 2, 2, 0, 0, 2, 2, 0, 2, 0, 0, 2, 1, 1, 0, 1, 0, 1, 1, 0, 1, 1, 2, 1, 2, 2, 1, 2, 0, 2, 1, 1, 0, 0, 0, 2, 1, 2, 0, 1, 2, 2, 1, 1, 2, 1, 2, 0, 2, 0, 0, 1, 1, 1, 1, 0, 1, 2, 0, 2, 0, 2, 2, 0, 1, 2, 1, 0, 1, 0, 2, 2, 1, 2, 0, 2, 0, 1, 2, 0, 2, 0, 1, 0, 0, 2, 1, 0, 1, 1, 1, 0, 1, 1, 1, 0, 1, 2, 2, 2, 1, 2, 1, 0, 2, 0, 1, 0, 1, 2, 0, 1, 2, 1, 2, 1, 1, 1, 2, 2, 1, 1, 1, 2, 2, 0, 1, 2, 0, 1, 0, 0, 2, 2, 2, 2, 1, 2, 0, 0, 1, 1, 2, 2, 1, 0, 1, 0, 2, 0, 0, 2, 1, 0, 1, 0, 1, 0, 1, 1, 0, 2, 1, 1, 2, 2, 1, 1, 0, 0, 1, 0, 1, 0, 2, 1, 1, 1, 1, 1, 1, 2, 2, 1, 2, 2, 1, 0, 2, 1, 0, 0, 0, 2, 1, 0, 0, 2, 2, 2, 0, 2, 1, 2, 1, 0, 1, 2, 0, 2, 1, 2, 2, 1, 1, 1, 0, 0, 1, 2, 0, 1, 2, 2, 1, 2, 1, 0, 0, 0, 1, 2, 1, 2, 2, 2, 1, 1, 2, 1, 1, 2, 0, 2, 1, 0, 0, 2, 1, 0, 1, 0, 0, 2, 1, 2, 1, 1, 1, 1, 1, 1, 2, 1, 0, 0, 1, 1, 1, 2, 1, 2, 1, 1, 1, 1, 2, 2, 1, 0, 1, 2, 2, 0, 1, 2, 1, 2, 1, 1, 0, 1, 0, 0, 2, 2, 2, 2, 2, 0, 1, 1, 2, 1, 1, 0, 1, 0, 2, 1, 2, 0, 1, 0, 1, 0, 1, 1, 2, 1, 2, 0, 0, 1, 0, 1, 0, 1, 1, 0, 0, 1, 1, 1, 1, 0, 0, 2, 1, 2, 1, 0, 0, 1, 1, 0, 1, 0, 2, 0, 1, 0, 1, 1, 0, 1, 0, 1, 1, 1, 2, 1, 0, 0, 1, 1, 2, 0, 0, 2, 2, 1, 1, 1, 0, 2, 2, 0, 2, 0, 2, 0, 0, 2, 0, 2, 1, 1, 0, 2, 2, 2, 0, 2, 2, 2, 2, 1, 1, 1, 2, 2, 0, 1, 2, 2, 2, 2, 0, 0, 0, 1, 1, 0, 0, 0, 0, 2, 1, 1, 0, 1, 2, 2, 1, 2, 1, 2, 2, 1, 2, 2, 0, 0, 0, 0, 2, 0, 2, 1, 0, 2, 0, 1, 1, 2, 0, 2, 1, 0, 1, 0, 0, 0, 0, 1, 0, 1, 0, 1, 1, 2, 1, 1, 2, 2, 1, 2, 1, 0, 2, 2, 0, 1, 1, 2, 0, 1, 2, 1, 2, 0, 0, 2, 1, 2, 2, 2, 1, 1, 0, 2, 0, 0, 2, 0, 0, 1, 2, 1, 1, 2, 2, 1, 1, 0, 2, 1, 1, 2, 0, 1, 1, 0, 1, 1, 2, 1, 2, 2, 2, 0, 0, 0, 2, 2, 2, 1, 2, 1, 2, 1, 1, 0, 1, 1, 2, 1, 2, 0, 2, 0, 0, 2, 0, 1, 2, 2, 1, 2, 1, 1, 2, 1, 1, 0, 1, 0, 0, 1, 2, 0, 0, 2, 0, 2, 1, 1, 1, 0, 2, 0, 1, 0, 1, 1, 2, 0, 2, 2, 1, 0, 0, 0, 0, 2, 1, 0, 0, 1, 2, 0, 2, 2, 0, 1, 0, 0, 1, 2, 2, 2, 2, 1, 0, 0, 1, 0, 2, 0, 0, 2, 1, 0, 2, 2, 2, 2, 0, 2, 2, 1, 2, 2, 0, 1, 0, 0, 1, 1, 2, 1, 2, 1, 1, 0, 1, 2, 0, 0, 2, 2, 1, 2, 2, 2, 1, 0, 1, 0, 0, 2, 0, 0, 1, 1, 1, 1, 1, 1, 1, 0, 0, 0, 2, 0, 2, 2, 0, 1, 2, 0, 2, 2, 2, 1, 0, 0, 0, 1, 0, 2, 2, 0, 0, 2, 0, 2, 2, 0, 0, 1, 0, 0, 2, 2, 0, 2, 2, 1, 0, 0, 1, 1, 1, 1, 0, 0, 2, 1, 1, 0, 1, 0, 0, 2, 1, 0, 2, 2, 0, 2, 2, 1, 2, 0, 1, 2, 2, 1, 0, 1, 0, 1, 2, 2, 0, 0, 0, 1, 2, 2, 0, 0, 2, 0, 0, 0, 0, 0, 0, 1, 2, 0, 0, 1, 0, 1, 1, 2, 0, 0, 1, 2, 0, 0, 2, 2, 0, 1, 1, 1, 0, 2, 1, 2, 2, 0, 1, 2, 1, 2, 2, 1, 0, 2, 1, 2, 0, 0, 0, 1, 0, 2, 1, 0, 1, 0, 0, 0, 0, 0, 2, 1, 2, 0, 2, 1, 0, 1, 2, 2, 1, 0, 1, 1, 0, 1, 2, 1, 0, 2, 0, 1, 1, 2, 1, 0, 2, 0, 2, 2, 1, 2, 1, 1, 2, 2, 1, 2, 0, 0, 2, 2, 0, 1, 1, 1, 2, 0, 2, 1, 2, 0, 2, 1, 0, 2, 2, 2, 0, 0, 0, 0, 1, 0, 0, 2, 0, 0, 1, 0, 1, 0, 0, 1, 1, 2, 0, 0, 2, 1, 2, 2, 1, 1, 2, 1, 1, 2, 1, 0, 0, 0, 1, 0, 2, 2, 1, 2, 1, 1, 2, 0, 0, 0, 2, 2, 0, 0, 0, 0, 1, 0, 1, 0, 1, 1, 1, 0, 1, 0, 1, 2, 0, 2, 0, 2, 0, 2, 2, 0, 1, 0, 1, 2, 1, 0, 2, 2, 0, 2, 1, 2, 1, 0, 2, 0, 2, 1, 1, 2, 0, 0, 2, 1, 1, 0, 2, 1, 1, 1, 0, 1, 1, 0, 2, 2, 0, 2, 2, 1, 2, 2, 2, 1, 0, 2, 2, 2, 0, 2, 0, 2, 2, 0, 0, 0, 1, 2, 2, 0, 2, 0, 1, 0, 0, 0, 0, 2, 0, 1, 0, 1, 2, 2, 0, 0, 2, 0, 2, 0, 1, 2, 2, 1, 1, 0, 1, 1, 1, 2, 1, 2, 1, 2, 0, 1, 2, 0, 0, 2, 0, 2, 1, 1, 1, 0, 0, 0, 2, 1, 2, 2, 2, 1, 2, 2, 2, 0, 1, 2, 1, 1, 1, 2, 2, 1, 1, 2, 0, 1, 0, 2, 2, 0, 1, 0, 0, 1, 1, 2, 0, 1, 0, 2, 1, 2, 0, 0, 1, 1, 0, 2, 2, 2, 2, 0, 0, 0, 1, 0, 1, 0, 1, 2, 0, 2, 1, 1, 0, 2, 0, 0, 1, 1, 0, 1, 0, 0, 2, 2, 0, 1, 1, 2, 0, 2, 0, 2, 0, 2, 2, 1, 0, 1, 0, 1, 1, 2, 2, 0, 2, 2, 2, 0, 1, 1, 2, 1, 2, 0, 1, 0, 0, 0, 0, 2, 2, 1, 2, 1, 2, 1, 1, 0, 1, 1, 0, 2, 0, 0, 0, 1, 2, 1, 1, 1, 0, 2, 1, 0, 2, 1, 1, 0, 1, 1, 2, 0, 1, 2, 1, 2, 2, 0, 1, 2, 1, 0, 2, 1, 2, 2, 1, 1, 1, 2, 0, 2, 0, 2, 2, 2, 2, 1, 2, 1, 0, 2, 2, 1, 2, 1, 2, 0, 1, 0, 1, 1, 0, 1, 2, 1, 0, 1, 1, 2, 2, 0, 0, 0, 1, 2, 0, 1, 1, 0, 1, 0, 0, 2, 0, 2, 1, 2, 2, 1, 0, 0, 2, 2, 0, 0, 0, 1, 2, 0, 1, 1, 2, 1, 2, 2, 1, 1, 1, 2, 0, 0, 0, 1, 2, 0, 1, 2, 1, 2, 2, 1, 2, 1, 1, 0, 1, 2, 1, 0, 0, 1, 2, 2, 2, 2, 2, 1, 1, 0, 2, 2, 1, 1, 0, 0, 0, 2, 1, 0, 0, 0, 1, 2, 1, 0, 1, 2, 0, 2, 2, 0, 1, 2, 1, 1, 2, 2, 2, 2, 2, 2, 0, 2, 0, 0, 0, 2, 0, 2, 2, 1, 1, 1, 2, 2, 0, 2, 2, 0, 2, 1, 1, 1, 1, 0, 0, 0, 0, 1, 1, 2, 1, 1, 0, 1, 2, 1, 1, 2, 1, 2, 1, 0, 1, 1, 1, 1, 1, 2, 1, 0, 0, 2, 2, 1, 2, 1, 0, 1, 0]\n"
     ]
    }
   ],
   "source": [
    "line_count = len(rows)\n",
    "indices = np.arange(line_count)\n",
    "indices_fin = np.arange(len(fingerprints))\n",
    "np.random.shuffle(indices)\n",
    "split_train = 80\n",
    "split_validation = 10\n",
    "split_test = 10\n",
    "train_end = int(line_count * split_train / 100)\n",
    "val_end = train_end + int(line_count * split_validation / 100)\n",
    "train_end_fin = int(len(fingerprints) * split_train / 100)\n",
    "val_end_fin = train_end_fin + int(len(fingerprints) * split_validation / 100)\n",
    "# Split data\n",
    "train = [rows[i] for i in indices[:train_end]]\n",
    "validation = [rows[i] for i in indices[train_end:val_end]]\n",
    "test = [rows[i] for i in indices[val_end:]]\n",
    "# Fingerprint data\n",
    "fin_rows = [fingerprints[i] for i in indices_fin[:]]\n",
    "fin_train = [fingerprints[i] for i in indices_fin[:train_end_fin]]\n",
    "fin_validation = [fingerprints[i] for i in indices_fin[train_end_fin:val_end_fin]]\n",
    "fin_test = [fingerprints[i] for i in indices_fin[val_end_fin:]]\n",
    "#Labels data\n",
    "label_train = [train[i][2] for i in range(len(train))]\n",
    "label_validation = [validation[i][2] for i in range(len(validation))]\n",
    "label_test = [test[i][2] for i in range(len(test))]\n",
    "label = [rows[i][2] for i in range(len(train+validation+test))]\n",
    "#Change strings to integers\n",
    "for i in range(len(label_train)):\n",
    "    if label_train[i] == 'peptide':\n",
    "        label_train[i] = 0\n",
    "    if label_train[i] == 'plastic':\n",
    "        label_train[i] = 1\n",
    "    if label_train[i] == 'oligosaccharide':\n",
    "        label_train[i] = 2\n",
    "for i in range(len(label_validation)):\n",
    "    if label_validation[i] == 'peptide':\n",
    "        label_validation[i] = 0\n",
    "    if label_validation[i] == 'plastic':\n",
    "        label_validation[i] = 1\n",
    "    if label_validation[i] == 'oligosaccharide':\n",
    "        label_validation[i] = 2\n",
    "for i in range(len(label_test)):\n",
    "    if label_test[i] == 'peptide':\n",
    "        label_test[i] = 0\n",
    "    if label_test[i] == 'plastic':\n",
    "        label_test[i] = 1\n",
    "    if label_test[i] == 'oligosaccharide':\n",
    "        label_test[i] = 2\n",
    "for i in range(len(label)):\n",
    "    if label[i] == 'peptide':\n",
    "        label[i] = 0\n",
    "    if label[i] == 'plastic':\n",
    "        label[i] = 1\n",
    "    if label[i] == 'oligosaccharide':\n",
    "        label[i] = 2\n",
    "print(len(train),len(validation),len(test),len(train)+len(validation)+len(test),len(rows))\n",
    "print(test[len(test)-1])\n",
    "print(label_validation)"
   ]
  },
  {
   "attachments": {},
   "cell_type": "markdown",
   "id": "0f80667b",
   "metadata": {},
   "source": [
    "Draw the selected molecule"
   ]
  },
  {
   "cell_type": "code",
   "execution_count": 62,
   "id": "483c0428",
   "metadata": {},
   "outputs": [
    {
     "data": {
      "image/png": "[encoded data removed]",
      "text/plain": [
       "<rdkit.Chem.rdchem.Mol at 0x7f3b55ca5800>"
      ]
     },
     "execution_count": 62,
     "metadata": {},
     "output_type": "execute_result"
    }
   ],
   "source": [
    "mol = Chem.MolFromSmiles(train[index][1])\n",
    "mol"
   ]
  },
  {
   "attachments": {},
   "cell_type": "markdown",
   "id": "eb85cc9f",
   "metadata": {},
   "source": [
    "Calculate the probabilities of the 3 labels"
   ]
  },
  {
   "cell_type": "code",
   "execution_count": 63,
   "id": "a7fd971c",
   "metadata": {},
   "outputs": [
    {
     "name": "stdout",
     "output_type": "stream",
     "text": [
      "Probability of peptide, plastic or sugar for the label:  0.333,  0.330,  0.337.\n",
      "Total probability:  1.0\n"
     ]
    }
   ],
   "source": [
    "sugar = 0\n",
    "plastic = 0\n",
    "peptide = 0\n",
    "\n",
    "for i in range(len(rows)):\n",
    "    if rows[i][2] == 'peptide':\n",
    "        peptide += 1\n",
    "    elif rows[i][2] == 'plastic':\n",
    "        plastic += 1\n",
    "    elif rows[i][2] == 'oligosaccharide':\n",
    "        sugar += 1\n",
    "\n",
    "p_sugar = sugar / len(rows)\n",
    "p_plastic = plastic / len(rows)\n",
    "p_peptide = peptide / len(rows)\n",
    "print(f\"Probability of peptide, plastic or sugar for the label: {p_peptide:6.3f}, {p_plastic:6.3f}, {p_sugar:6.3f}.\")\n",
    "print('Total probability: ',p_sugar+p_plastic+p_peptide)\n"
   ]
  },
  {
   "attachments": {},
   "cell_type": "markdown",
   "id": "2bfa8d30",
   "metadata": {},
   "source": [
    "## Make a Neural network to identify polymers"
   ]
  },
  {
   "attachments": {},
   "cell_type": "markdown",
   "id": "fd831fd7",
   "metadata": {},
   "source": [
    "Importing libraries"
   ]
  },
  {
   "cell_type": "code",
   "execution_count": 64,
   "id": "78a75b8b",
   "metadata": {},
   "outputs": [],
   "source": [
    "import torch\n",
    "from torchvision import transforms\n",
    "import torchvision.datasets as datasets\n",
    "import matplotlib.pyplot as plt"
   ]
  },
  {
   "attachments": {},
   "cell_type": "markdown",
   "id": "6c0056ed",
   "metadata": {},
   "source": [
    "Prepare the data for the training, validation and testing data sets"
   ]
  },
  {
   "cell_type": "code",
   "execution_count": 65,
   "id": "55ab4915",
   "metadata": {},
   "outputs": [],
   "source": [
    "from sklearn.model_selection import train_test_split\n",
    "\n",
    "NUM_CLASSES = 3\n",
    "NUM_FEATURES = 2048\n",
    "RANDOM_SEED = 42\n",
    "X_blob = torch.FloatTensor(fin_rows).type(torch.float)\n",
    "y_blob = torch.FloatTensor(label).type(torch.LongTensor)\n",
    "X_blob_train, X_blob_test, y_blob_train, y_blob_test = train_test_split(X_blob,\n",
    "    y_blob,\n",
    "    test_size=0.2,\n",
    "    random_state=RANDOM_SEED\n",
    ")\n"
   ]
  },
  {
   "attachments": {},
   "cell_type": "markdown",
   "id": "f5377c72",
   "metadata": {},
   "source": [
    "Make the model with three layers: the 2048 fingerprints to a 128 hidden layer, then that layer goes to a 16 layer and then the last gives the 3 labels. The activation function used are ReLu and softmax."
   ]
  },
  {
   "cell_type": "code",
   "execution_count": 66,
   "id": "de934341",
   "metadata": {},
   "outputs": [
    {
     "data": {
      "text/plain": [
       "BlobModel(\n",
       "  (linear_layer_stack): Sequential(\n",
       "    (0): Linear(in_features=2048, out_features=128, bias=True)\n",
       "    (1): ReLU()\n",
       "    (2): Linear(in_features=128, out_features=16, bias=True)\n",
       "    (3): ReLU()\n",
       "    (4): Linear(in_features=16, out_features=3, bias=True)\n",
       "    (5): Softmax(dim=1)\n",
       "  )\n",
       ")"
      ]
     },
     "execution_count": 66,
     "metadata": {},
     "output_type": "execute_result"
    }
   ],
   "source": [
    "from torch import nn\n",
    "\n",
    "device = \"cuda\" if torch.cuda.is_available() else \"cpu\"\n",
    "\n",
    "class BlobModel(nn.Module):\n",
    "    def __init__(self, input_features, output_features, hidden_units=8):\n",
    "        \"\"\"Initializes all required hyperparameters for a multi-class classification model.\n",
    "\n",
    "        Args:\n",
    "            input_features (int): Number of input features to the model.\n",
    "            out_features (int): Number of output features of the model\n",
    "              (how many classes there are).\n",
    "            hidden_units (int): Number of hidden units between layers, default 8.\n",
    "        \"\"\"\n",
    "        super().__init__()\n",
    "        self.linear_layer_stack = nn.Sequential(\n",
    "            nn.Linear(in_features=input_features, out_features=128),\n",
    "            nn.ReLU(), # <- does our dataset require non-linear layers? (try uncommenting and see if the results change)\n",
    "            nn.Linear(in_features=128, out_features=16),\n",
    "            nn.ReLU(), # <- does our dataset require non-linear layers? (try uncommenting and see if the results change)\n",
    "            nn.Linear(in_features=16, out_features=output_features), # how many classes are there?\n",
    "            nn.Softmax(dim=1)\n",
    "\n",
    "        )\n",
    "    \n",
    "    def forward(self, x):\n",
    "        x = self.linear_layer_stack(x)\n",
    "        return x\n",
    "\n",
    "# Create an instance of BlobModel and send it to the target device\n",
    "model_4 = BlobModel(input_features=NUM_FEATURES, \n",
    "                    output_features=NUM_CLASSES, \n",
    "                    hidden_units=64).to(device)\n",
    "model_4"
   ]
  },
  {
   "attachments": {},
   "cell_type": "markdown",
   "id": "e41fe05c",
   "metadata": {},
   "source": [
    "Settings for the Neural Network such as the criterion, optimizer, number of epochs"
   ]
  },
  {
   "cell_type": "code",
   "execution_count": 67,
   "id": "00a7a358",
   "metadata": {},
   "outputs": [],
   "source": [
    "# Create loss and optimizer\n",
    "loss_fn = nn.CrossEntropyLoss()\n",
    "optimizer = torch.optim.SGD(model_4.parameters(), lr=0.1)"
   ]
  },
  {
   "cell_type": "code",
   "execution_count": 68,
   "id": "2e63e64f",
   "metadata": {},
   "outputs": [],
   "source": [
    "# Calculate accuracy (a classification metric)\n",
    "def accuracy_fn(y_true, y_pred):\n",
    "    correct = torch.eq(y_true, y_pred).sum().item() # torch.eq() calculates where two tensors are equal\n",
    "    acc = (correct / len(y_pred)) * 100 \n",
    "    return acc"
   ]
  },
  {
   "attachments": {},
   "cell_type": "markdown",
   "id": "5bfedc4c",
   "metadata": {},
   "source": [
    "Training and validation loop"
   ]
  },
  {
   "cell_type": "code",
   "execution_count": 69,
   "id": "cf0976f0",
   "metadata": {},
   "outputs": [
    {
     "name": "stdout",
     "output_type": "stream",
     "text": [
      "Epoch: 0 | Loss: 1.09686, Acc: 54.76% | Test Loss: 1.09622, Test Acc: 60.82%\n",
      "Epoch: 10 | Loss: 1.08811, Acc: 67.30% | Test Loss: 1.08719, Test Acc: 65.99%\n",
      "Epoch: 20 | Loss: 1.07288, Acc: 67.50% | Test Loss: 1.07136, Test Acc: 66.16%\n",
      "Epoch: 30 | Loss: 1.04372, Acc: 68.25% | Test Loss: 1.04048, Test Acc: 67.03%\n",
      "Epoch: 40 | Loss: 0.97964, Acc: 69.07% | Test Loss: 0.97238, Test Acc: 68.10%\n",
      "Epoch: 50 | Loss: 0.86221, Acc: 72.12% | Test Loss: 0.85521, Test Acc: 72.56%\n",
      "Epoch: 60 | Loss: 0.77634, Acc: 91.93% | Test Loss: 0.77650, Test Acc: 93.72%\n",
      "Epoch: 70 | Loss: 0.73360, Acc: 99.69% | Test Loss: 0.73552, Test Acc: 99.78%\n",
      "Epoch: 75 | Loss: 0.71599, Acc: 99.98% | Test Loss: 0.71755, Test Acc: 100.00%\n"
     ]
    }
   ],
   "source": [
    "# Fit the model\n",
    "torch.manual_seed(42)\n",
    "\n",
    "# Set number of epochs\n",
    "epochs = 1000\n",
    "\n",
    "# Put data to target device\n",
    "X_blob_train, y_blob_train = X_blob_train.to(device), y_blob_train.to(device)\n",
    "X_blob_test, y_blob_test = X_blob_test.to(device), y_blob_test.to(device)\n",
    "\n",
    "for epoch in range(epochs):\n",
    "    ### Training\n",
    "    model_4.train()\n",
    "\n",
    "    # 1. Forward pass\n",
    "    y_logits = model_4(X_blob_train) # model outputs raw logits \n",
    "    y_pred = torch.softmax(y_logits, dim=1).argmax(dim=1) # go from logits -> prediction probabilities -> prediction labels\n",
    "    # print(y_logits)\n",
    "    # 2. Calculate loss and accuracy\n",
    "    loss = loss_fn(y_logits, y_blob_train) \n",
    "    acc = accuracy_fn(y_true=y_blob_train,\n",
    "                      y_pred=y_pred)\n",
    "\n",
    "    # 3. Optimizer zero grad\n",
    "    optimizer.zero_grad()\n",
    "\n",
    "    # 4. Loss backwards\n",
    "    loss.backward()\n",
    "\n",
    "    # 5. Optimizer step\n",
    "    optimizer.step()\n",
    "\n",
    "    ### Testing\n",
    "    model_4.eval()\n",
    "    with torch.inference_mode():\n",
    "      # 1. Forward pass\n",
    "      test_logits = model_4(X_blob_test)\n",
    "      test_pred = torch.softmax(test_logits, dim=1).argmax(dim=1)\n",
    "      # 2. Calculate test loss and accuracy\n",
    "      test_loss = loss_fn(test_logits, y_blob_test)\n",
    "      test_acc = accuracy_fn(y_true=y_blob_test,\n",
    "                             y_pred=test_pred)\n",
    "      \n",
    "    if test_acc > 99.99:\n",
    "       print(f\"Epoch: {epoch} | Loss: {loss:.5f}, Acc: {acc:.2f}% | Test Loss: {test_loss:.5f}, Test Acc: {test_acc:.2f}%\") \n",
    "       break\n",
    "      \n",
    "\n",
    "    # Print out what's happening\n",
    "    if epoch % 10 == 0:\n",
    "        print(f\"Epoch: {epoch} | Loss: {loss:.5f}, Acc: {acc:.2f}% | Test Loss: {test_loss:.5f}, Test Acc: {test_acc:.2f}%\") "
   ]
  },
  {
   "cell_type": "code",
   "execution_count": null,
   "id": "d8538c24",
   "metadata": {},
   "outputs": [],
   "source": []
  }
 ],
 "metadata": {
  "kernelspec": {
   "display_name": "Python 3 (ipykernel)",
   "language": "python",
   "name": "python3"
  },
  "language_info": {
   "codemirror_mode": {
    "name": "ipython",
    "version": 3
   },
   "file_extension": ".py",
   "mimetype": "text/x-python",
   "name": "python",
   "nbconvert_exporter": "python",
   "pygments_lexer": "ipython3",
   "version": "3.7.16"
  }
 },
 "nbformat": 4,
 "nbformat_minor": 5
}
