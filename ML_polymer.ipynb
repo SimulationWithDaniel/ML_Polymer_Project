{
 "cells": [
  {
   "cell_type": "markdown",
   "id": "c37b5689",
   "metadata": {},
   "source": [
    "To-Do list:\n",
    "Read in dataset\n",
    "Train-Validation-Test splitting\n",
    "Clustering\n",
    "Plotting that\n",
    "Read the paper from exercise 5 (CNN)\n",
    "Implement CNN to identify motifs of the polymers"
   ]
  },
  {
   "cell_type": "markdown",
   "id": "5e3b7ebe",
   "metadata": {},
   "source": [
    "## Importing and splitting the data"
   ]
  },
  {
   "cell_type": "code",
   "execution_count": null,
   "id": "318c9a75",
   "metadata": {},
   "outputs": [],
   "source": [
    "import csv\n",
    "import numpy as np\n",
    "from rdkit import Chem\n",
    "from rdkit.Chem import Draw"
   ]
  },
  {
   "attachments": {},
   "cell_type": "markdown",
   "id": "6376bc02",
   "metadata": {},
   "source": [
    "Import the dataset"
   ]
  },
  {
   "cell_type": "code",
   "execution_count": null,
   "id": "14268fa9",
   "metadata": {},
   "outputs": [],
   "source": [
    "csvfile = 'polymers_dataset.csv'\n",
    "rows = []\n",
    "fingerprints = []\n",
    "nonzero_count = 0\n",
    "with open(csvfile, 'r') as csv_file:\n",
    "     csv_reader = csv.reader(csv_file, dialect='excel', delimiter=',')\n",
    "     line_count = 0\n",
    "     for row in csv_reader:\n",
    "          if line_count == 0:\n",
    "               pass\n",
    "          else:\n",
    "               rows.append([val for val in row[:3]])\n",
    "               fingerprints.append([int(val) for val in row[3:]])\n",
    "          line_count += 1\n"
   ]
  },
  {
   "cell_type": "markdown",
   "id": "678dd5b7",
   "metadata": {},
   "source": [
    "Printing a certain index with data"
   ]
  },
  {
   "cell_type": "code",
   "execution_count": null,
   "id": "3389f9f8",
   "metadata": {},
   "outputs": [],
   "source": [
    "nonzero_count = 0\n",
    "print('Number of polymers: ', len(rows))\n",
    "index = 411 #Change this value to see the data\n",
    "print(f\"Index {rows[index][0]} with SMILES {rows[index][1]}\")\n",
    "print('Label: ', rows[index][2])\n",
    "print('Fingerprint: ',fingerprints[index])\n",
    "for i in range(2048):\n",
    "     if fingerprints[index][i] != 0:\n",
    "          nonzero_count += 1\n",
    "print('Fingerprints == 1: ', nonzero_count)"
   ]
  },
  {
   "cell_type": "markdown",
   "id": "2a530ffe",
   "metadata": {},
   "source": [
    "Splitting the data into training, validation and testing data"
   ]
  },
  {
   "cell_type": "code",
   "execution_count": null,
   "id": "94a1ce59",
   "metadata": {},
   "outputs": [],
   "source": [
    "line_count = len(rows)\n",
    "indices = np.arange(line_count)\n",
    "indices_fin = np.arange(len(fingerprints))\n",
    "np.random.shuffle(indices)\n",
    "split_train = 80\n",
    "split_validation = 10\n",
    "split_test = 10\n",
    "train_end = int(line_count * split_train / 100)\n",
    "val_end = train_end + int(line_count * split_validation / 100)\n",
    "train_end_fin = int(len(fingerprints) * split_train / 100)\n",
    "val_end_fin = train_end_fin + int(len(fingerprints) * split_validation / 100)\n",
    "# Split data\n",
    "train = [rows[i] for i in indices[:train_end]]\n",
    "validation = [rows[i] for i in indices[train_end:val_end]]\n",
    "test = [rows[i] for i in indices[val_end:]]\n",
    "# Fingerprint data\n",
    "fin_train = [fingerprints[i] for i in indices_fin[:train_end_fin]]\n",
    "fin_validation = [fingerprints[i] for i in indices_fin[train_end_fin:val_end_fin]]\n",
    "fin_test = [fingerprints[i] for i in indices_fin[val_end_fin:]]\n",
    "#Labels data\n",
    "label_train = [train[i][2] for i in range(len(train))]\n",
    "label_validation = [validation[i][2] for i in range(len(validation))]\n",
    "label_test = [test[i][2] for i in range(len(test))]\n",
    "#Change strings to integers\n",
    "for i in range(len(label_train)):\n",
    "    if label_train[i] == 'peptide':\n",
    "        label_train[i] = 0\n",
    "    if label_train[i] == 'plastic':\n",
    "        label_train[i] = 1\n",
    "    if label_train[i] == 'oligosaccharide':\n",
    "        label_train[i] = 2\n",
    "for i in range(len(label_validation)):\n",
    "    if label_validation[i] == 'peptide':\n",
    "        label_validation[i] = 0\n",
    "    if label_validation[i] == 'plastic':\n",
    "        label_validation[i] = 1\n",
    "    if label_validation[i] == 'oligosaccharide':\n",
    "        label_validation[i] = 2\n",
    "for i in range(len(label_test)):\n",
    "    if label_test[i] == 'peptide':\n",
    "        label_test[i] = 0\n",
    "    if label_test[i] == 'plastic':\n",
    "        label_test[i] = 1\n",
    "    if label_test[i] == 'oligosaccharide':\n",
    "        label_test[i] = 2\n",
    "print(len(train),len(validation),len(test),len(train)+len(validation)+len(test),len(rows))\n",
    "print(test[len(test)-1])\n",
    "print(label_validation)"
   ]
  },
  {
   "cell_type": "markdown",
   "id": "786fb049",
   "metadata": {},
   "source": [
    "Draw the selected molecule"
   ]
  },
  {
   "cell_type": "code",
   "execution_count": null,
   "id": "3a8726a6",
   "metadata": {},
   "outputs": [],
   "source": [
    "mol = Chem.MolFromSmiles(train[index][1])\n",
    "mol"
   ]
  },
  {
   "cell_type": "markdown",
   "id": "e1615264",
   "metadata": {},
   "source": [
    "Calculate the probabilities of the 3 labels"
   ]
  },
  {
   "cell_type": "code",
   "execution_count": null,
   "id": "61530efc",
   "metadata": {},
   "outputs": [],
   "source": [
    "sugar = 0\n",
    "plastic = 0\n",
    "peptide = 0\n",
    "\n",
    "for i in range(len(rows)):\n",
    "    if rows[i][2] == 'peptide':\n",
    "        peptide += 1\n",
    "    elif rows[i][2] == 'plastic':\n",
    "        plastic += 1\n",
    "    elif rows[i][2] == 'oligosaccharide':\n",
    "        sugar += 1\n",
    "\n",
    "p_sugar = sugar / len(rows)\n",
    "p_plastic = plastic / len(rows)\n",
    "p_peptide = peptide / len(rows)\n",
    "print(f\"Probability of peptide, plastic or sugar for the label: {p_peptide:6.3f}, {p_plastic:6.3f}, {p_sugar:6.3f}.\")\n",
    "print('Total probability: ',p_sugar+p_plastic+p_peptide)\n"
   ]
  },
  {
   "attachments": {},
   "cell_type": "markdown",
   "id": "f4358927",
   "metadata": {},
   "source": [
    "## Make a Neural network to identify polymers"
   ]
  },
  {
   "attachments": {},
   "cell_type": "markdown",
   "id": "e743a1bb",
   "metadata": {},
   "source": [
    "Importing libraries"
   ]
  },
  {
   "cell_type": "code",
   "execution_count": null,
   "id": "6adefef2",
   "metadata": {},
   "outputs": [],
   "source": [
    "import torch\n",
    "from torchvision import transforms\n",
    "import torchvision.datasets as datasets\n",
    "import matplotlib.pyplot as plt"
   ]
  },
  {
   "attachments": {},
   "cell_type": "markdown",
   "id": "c9b6edba",
   "metadata": {},
   "source": [
    "Prepare the data for the training, validation and testing data sets"
   ]
  },
  {
   "cell_type": "code",
   "execution_count": null,
   "id": "b216f9ac",
   "metadata": {},
   "outputs": [],
   "source": [
    "batch_sz = 256\n",
    "train_dataloader = torch.utils.data.DataLoader(list(zip(fin_train, label_train)), batch_size=batch_sz, shuffle=True)\n",
    "val_dataloader = torch.utils.data.DataLoader(list(zip(fin_validation, label_validation)), batch_size=batch_sz, shuffle=True)\n",
    "test_dataloader = torch.utils.data.DataLoader(list(zip(fin_test, label_test)), batch_size=batch_sz, shuffle=True)"
   ]
  },
  {
   "cell_type": "code",
   "execution_count": null,
   "id": "d88a1b3a",
   "metadata": {},
   "outputs": [],
   "source": [
    "print(train_dataloader)"
   ]
  },
  {
   "attachments": {},
   "cell_type": "markdown",
   "id": "2680d499",
   "metadata": {},
   "source": [
    "Make the model with three layers: the 2048 fingerprints to a 128 hidden layer, then that layer goes to a 16 layer and then the last gives the 3 labels. The activation function used are ReLu and softmax."
   ]
  },
  {
   "cell_type": "code",
   "execution_count": null,
   "id": "7ad1bbaf",
   "metadata": {},
   "outputs": [],
   "source": [
    "class Model(torch.nn.Module):\n",
    "    def __init__(self):\n",
    "            super(Model, self).__init__()\n",
    "            self.layer1 = torch.nn.Linear(2048, 128)\n",
    "            self.layer2 = torch.nn.Linear(128, 16)\n",
    "            self.layer3 = torch.nn.Linear(16, 3)\n",
    "            self.relu = torch.nn.ReLU()\n",
    "            self.softmax = torch.nn.Softmax(dim=1)\n",
    "\n",
    "    def forward(self, x):\n",
    "        x = x.transpose(0,1)\n",
    "        x = x.to(self.layer1.weight.dtype)\n",
    "        x = self.relu(self.layer1(x))\n",
    "        x = self.relu(self.layer2(x))\n",
    "        x = self.softmax(self.layer3(x))\n",
    "        return x"
   ]
  },
  {
   "attachments": {},
   "cell_type": "markdown",
   "id": "3e087aeb",
   "metadata": {},
   "source": [
    "Settings for the Neural Network such as the criterion, optimizer, number of epochs"
   ]
  },
  {
   "cell_type": "code",
   "execution_count": 66,
   "id": "df6c2be0",
   "metadata": {},
   "outputs": [],
   "source": [
    "model = Model()\n",
    "criterion = torch.nn.CrossEntropyLoss()\n",
    "optimizer = torch.optim.Adam(model.parameters(), lr=0.0001)\n",
    "no_epochs = 50\n",
    "train_loss = list()\n",
    "val_loss = list()\n",
    "best_val_loss = 1\n",
    "#fingerprints_tensor = []\n",
    "##for fp in fingerprints:\n",
    "#    fp_tensor = fp.clone().detach()\n",
    "#    fingerprints_tensor.append(fp_tensor)\n",
    "#fingerprints = torch.stack(fingerprints_tensor)"
   ]
  },
  {
   "attachments": {},
   "cell_type": "markdown",
   "id": "fa232caa",
   "metadata": {},
   "source": [
    "Training and validation loop"
   ]
  },
  {
   "cell_type": "code",
   "execution_count": 67,
   "id": "11da7a93",
   "metadata": {},
   "outputs": [
    {
     "name": "stdout",
     "output_type": "stream",
     "text": [
      "\n",
      "Epoch: 1/50, Train Loss: 1.09935146, Val Loss: 1.09932563, Val Accuracy: 0.32427184\n",
      "\n",
      "Epoch: 2/50, Train Loss: 1.09834530, Val Loss: 1.09873671, Val Accuracy: 0.32912621\n",
      "\n",
      "Epoch: 3/50, Train Loss: 1.09743717, Val Loss: 1.09839307, Val Accuracy: 0.32718447\n"
     ]
    },
    {
     "ename": "KeyboardInterrupt",
     "evalue": "",
     "output_type": "error",
     "traceback": [
      "\u001b[0;31m---------------------------------------------------------------------------\u001b[0m",
      "\u001b[0;31mKeyboardInterrupt\u001b[0m                         Traceback (most recent call last)",
      "\u001b[0;32m/tmp/ipykernel_712/1003342549.py\u001b[0m in \u001b[0;36m<module>\u001b[0;34m\u001b[0m\n\u001b[1;32m      4\u001b[0m     \u001b[0mmodel\u001b[0m\u001b[0;34m.\u001b[0m\u001b[0mtrain\u001b[0m\u001b[0;34m(\u001b[0m\u001b[0;34m)\u001b[0m\u001b[0;34m\u001b[0m\u001b[0;34m\u001b[0m\u001b[0m\n\u001b[1;32m      5\u001b[0m     \u001b[0;31m# training loop\u001b[0m\u001b[0;34m\u001b[0m\u001b[0;34m\u001b[0m\u001b[0;34m\u001b[0m\u001b[0m\n\u001b[0;32m----> 6\u001b[0;31m     \u001b[0;32mfor\u001b[0m \u001b[0mitr\u001b[0m\u001b[0;34m,\u001b[0m \u001b[0;34m(\u001b[0m\u001b[0mfingerprints\u001b[0m\u001b[0;34m,\u001b[0m \u001b[0mlabels\u001b[0m\u001b[0;34m)\u001b[0m \u001b[0;32min\u001b[0m \u001b[0menumerate\u001b[0m\u001b[0;34m(\u001b[0m\u001b[0mtrain_dataloader\u001b[0m\u001b[0;34m)\u001b[0m\u001b[0;34m:\u001b[0m\u001b[0;34m\u001b[0m\u001b[0;34m\u001b[0m\u001b[0m\n\u001b[0m\u001b[1;32m      7\u001b[0m       \u001b[0;31m#  if len(fingerprints) != batch_sz or len(labels) != batch_sz:\u001b[0m\u001b[0;34m\u001b[0m\u001b[0;34m\u001b[0m\u001b[0;34m\u001b[0m\u001b[0m\n\u001b[1;32m      8\u001b[0m        \u001b[0;31m#     continue  # exclude incomplete batch\u001b[0m\u001b[0;34m\u001b[0m\u001b[0;34m\u001b[0m\u001b[0;34m\u001b[0m\u001b[0m\n",
      "\u001b[0;32m~/anaconda3/envs/ml4chem/lib/python3.7/site-packages/torch/utils/data/dataloader.py\u001b[0m in \u001b[0;36m__next__\u001b[0;34m(self)\u001b[0m\n\u001b[1;32m    626\u001b[0m                 \u001b[0;31m# TODO(https://github.com/pytorch/pytorch/issues/76750)\u001b[0m\u001b[0;34m\u001b[0m\u001b[0;34m\u001b[0m\u001b[0;34m\u001b[0m\u001b[0m\n\u001b[1;32m    627\u001b[0m                 \u001b[0mself\u001b[0m\u001b[0;34m.\u001b[0m\u001b[0m_reset\u001b[0m\u001b[0;34m(\u001b[0m\u001b[0;34m)\u001b[0m  \u001b[0;31m# type: ignore[call-arg]\u001b[0m\u001b[0;34m\u001b[0m\u001b[0;34m\u001b[0m\u001b[0m\n\u001b[0;32m--> 628\u001b[0;31m             \u001b[0mdata\u001b[0m \u001b[0;34m=\u001b[0m \u001b[0mself\u001b[0m\u001b[0;34m.\u001b[0m\u001b[0m_next_data\u001b[0m\u001b[0;34m(\u001b[0m\u001b[0;34m)\u001b[0m\u001b[0;34m\u001b[0m\u001b[0;34m\u001b[0m\u001b[0m\n\u001b[0m\u001b[1;32m    629\u001b[0m             \u001b[0mself\u001b[0m\u001b[0;34m.\u001b[0m\u001b[0m_num_yielded\u001b[0m \u001b[0;34m+=\u001b[0m \u001b[0;36m1\u001b[0m\u001b[0;34m\u001b[0m\u001b[0;34m\u001b[0m\u001b[0m\n\u001b[1;32m    630\u001b[0m             \u001b[0;32mif\u001b[0m \u001b[0mself\u001b[0m\u001b[0;34m.\u001b[0m\u001b[0m_dataset_kind\u001b[0m \u001b[0;34m==\u001b[0m \u001b[0m_DatasetKind\u001b[0m\u001b[0;34m.\u001b[0m\u001b[0mIterable\u001b[0m \u001b[0;32mand\u001b[0m\u001b[0;31m \u001b[0m\u001b[0;31m\\\u001b[0m\u001b[0;34m\u001b[0m\u001b[0;34m\u001b[0m\u001b[0m\n",
      "\u001b[0;32m~/anaconda3/envs/ml4chem/lib/python3.7/site-packages/torch/utils/data/dataloader.py\u001b[0m in \u001b[0;36m_next_data\u001b[0;34m(self)\u001b[0m\n\u001b[1;32m    669\u001b[0m     \u001b[0;32mdef\u001b[0m \u001b[0m_next_data\u001b[0m\u001b[0;34m(\u001b[0m\u001b[0mself\u001b[0m\u001b[0;34m)\u001b[0m\u001b[0;34m:\u001b[0m\u001b[0;34m\u001b[0m\u001b[0;34m\u001b[0m\u001b[0m\n\u001b[1;32m    670\u001b[0m         \u001b[0mindex\u001b[0m \u001b[0;34m=\u001b[0m \u001b[0mself\u001b[0m\u001b[0;34m.\u001b[0m\u001b[0m_next_index\u001b[0m\u001b[0;34m(\u001b[0m\u001b[0;34m)\u001b[0m  \u001b[0;31m# may raise StopIteration\u001b[0m\u001b[0;34m\u001b[0m\u001b[0;34m\u001b[0m\u001b[0m\n\u001b[0;32m--> 671\u001b[0;31m         \u001b[0mdata\u001b[0m \u001b[0;34m=\u001b[0m \u001b[0mself\u001b[0m\u001b[0;34m.\u001b[0m\u001b[0m_dataset_fetcher\u001b[0m\u001b[0;34m.\u001b[0m\u001b[0mfetch\u001b[0m\u001b[0;34m(\u001b[0m\u001b[0mindex\u001b[0m\u001b[0;34m)\u001b[0m  \u001b[0;31m# may raise StopIteration\u001b[0m\u001b[0;34m\u001b[0m\u001b[0;34m\u001b[0m\u001b[0m\n\u001b[0m\u001b[1;32m    672\u001b[0m         \u001b[0;32mif\u001b[0m \u001b[0mself\u001b[0m\u001b[0;34m.\u001b[0m\u001b[0m_pin_memory\u001b[0m\u001b[0;34m:\u001b[0m\u001b[0;34m\u001b[0m\u001b[0;34m\u001b[0m\u001b[0m\n\u001b[1;32m    673\u001b[0m             \u001b[0mdata\u001b[0m \u001b[0;34m=\u001b[0m \u001b[0m_utils\u001b[0m\u001b[0;34m.\u001b[0m\u001b[0mpin_memory\u001b[0m\u001b[0;34m.\u001b[0m\u001b[0mpin_memory\u001b[0m\u001b[0;34m(\u001b[0m\u001b[0mdata\u001b[0m\u001b[0;34m,\u001b[0m \u001b[0mself\u001b[0m\u001b[0;34m.\u001b[0m\u001b[0m_pin_memory_device\u001b[0m\u001b[0;34m)\u001b[0m\u001b[0;34m\u001b[0m\u001b[0;34m\u001b[0m\u001b[0m\n",
      "\u001b[0;32m~/anaconda3/envs/ml4chem/lib/python3.7/site-packages/torch/utils/data/_utils/fetch.py\u001b[0m in \u001b[0;36mfetch\u001b[0;34m(self, possibly_batched_index)\u001b[0m\n\u001b[1;32m     59\u001b[0m         \u001b[0;32melse\u001b[0m\u001b[0;34m:\u001b[0m\u001b[0;34m\u001b[0m\u001b[0;34m\u001b[0m\u001b[0m\n\u001b[1;32m     60\u001b[0m             \u001b[0mdata\u001b[0m \u001b[0;34m=\u001b[0m \u001b[0mself\u001b[0m\u001b[0;34m.\u001b[0m\u001b[0mdataset\u001b[0m\u001b[0;34m[\u001b[0m\u001b[0mpossibly_batched_index\u001b[0m\u001b[0;34m]\u001b[0m\u001b[0;34m\u001b[0m\u001b[0;34m\u001b[0m\u001b[0m\n\u001b[0;32m---> 61\u001b[0;31m         \u001b[0;32mreturn\u001b[0m \u001b[0mself\u001b[0m\u001b[0;34m.\u001b[0m\u001b[0mcollate_fn\u001b[0m\u001b[0;34m(\u001b[0m\u001b[0mdata\u001b[0m\u001b[0;34m)\u001b[0m\u001b[0;34m\u001b[0m\u001b[0;34m\u001b[0m\u001b[0m\n\u001b[0m",
      "\u001b[0;32m~/anaconda3/envs/ml4chem/lib/python3.7/site-packages/torch/utils/data/_utils/collate.py\u001b[0m in \u001b[0;36mdefault_collate\u001b[0;34m(batch)\u001b[0m\n\u001b[1;32m    263\u001b[0m             \u001b[0;34m>>\u001b[0m\u001b[0;34m>\u001b[0m \u001b[0mdefault_collate\u001b[0m\u001b[0;34m(\u001b[0m\u001b[0mbatch\u001b[0m\u001b[0;34m)\u001b[0m  \u001b[0;31m# Handle `CustomType` automatically\u001b[0m\u001b[0;34m\u001b[0m\u001b[0;34m\u001b[0m\u001b[0m\n\u001b[1;32m    264\u001b[0m     \"\"\"\n\u001b[0;32m--> 265\u001b[0;31m     \u001b[0;32mreturn\u001b[0m \u001b[0mcollate\u001b[0m\u001b[0;34m(\u001b[0m\u001b[0mbatch\u001b[0m\u001b[0;34m,\u001b[0m \u001b[0mcollate_fn_map\u001b[0m\u001b[0;34m=\u001b[0m\u001b[0mdefault_collate_fn_map\u001b[0m\u001b[0;34m)\u001b[0m\u001b[0;34m\u001b[0m\u001b[0;34m\u001b[0m\u001b[0m\n\u001b[0m",
      "\u001b[0;32m~/anaconda3/envs/ml4chem/lib/python3.7/site-packages/torch/utils/data/_utils/collate.py\u001b[0m in \u001b[0;36mcollate\u001b[0;34m(batch, collate_fn_map)\u001b[0m\n\u001b[1;32m    141\u001b[0m \u001b[0;34m\u001b[0m\u001b[0m\n\u001b[1;32m    142\u001b[0m         \u001b[0;32mif\u001b[0m \u001b[0misinstance\u001b[0m\u001b[0;34m(\u001b[0m\u001b[0melem\u001b[0m\u001b[0;34m,\u001b[0m \u001b[0mtuple\u001b[0m\u001b[0;34m)\u001b[0m\u001b[0;34m:\u001b[0m\u001b[0;34m\u001b[0m\u001b[0;34m\u001b[0m\u001b[0m\n\u001b[0;32m--> 143\u001b[0;31m             \u001b[0;32mreturn\u001b[0m \u001b[0;34m[\u001b[0m\u001b[0mcollate\u001b[0m\u001b[0;34m(\u001b[0m\u001b[0msamples\u001b[0m\u001b[0;34m,\u001b[0m \u001b[0mcollate_fn_map\u001b[0m\u001b[0;34m=\u001b[0m\u001b[0mcollate_fn_map\u001b[0m\u001b[0;34m)\u001b[0m \u001b[0;32mfor\u001b[0m \u001b[0msamples\u001b[0m \u001b[0;32min\u001b[0m \u001b[0mtransposed\u001b[0m\u001b[0;34m]\u001b[0m  \u001b[0;31m# Backwards compatibility.\u001b[0m\u001b[0;34m\u001b[0m\u001b[0;34m\u001b[0m\u001b[0m\n\u001b[0m\u001b[1;32m    144\u001b[0m         \u001b[0;32melse\u001b[0m\u001b[0;34m:\u001b[0m\u001b[0;34m\u001b[0m\u001b[0;34m\u001b[0m\u001b[0m\n\u001b[1;32m    145\u001b[0m             \u001b[0;32mtry\u001b[0m\u001b[0;34m:\u001b[0m\u001b[0;34m\u001b[0m\u001b[0;34m\u001b[0m\u001b[0m\n",
      "\u001b[0;32m~/anaconda3/envs/ml4chem/lib/python3.7/site-packages/torch/utils/data/_utils/collate.py\u001b[0m in \u001b[0;36m<listcomp>\u001b[0;34m(.0)\u001b[0m\n\u001b[1;32m    141\u001b[0m \u001b[0;34m\u001b[0m\u001b[0m\n\u001b[1;32m    142\u001b[0m         \u001b[0;32mif\u001b[0m \u001b[0misinstance\u001b[0m\u001b[0;34m(\u001b[0m\u001b[0melem\u001b[0m\u001b[0;34m,\u001b[0m \u001b[0mtuple\u001b[0m\u001b[0;34m)\u001b[0m\u001b[0;34m:\u001b[0m\u001b[0;34m\u001b[0m\u001b[0;34m\u001b[0m\u001b[0m\n\u001b[0;32m--> 143\u001b[0;31m             \u001b[0;32mreturn\u001b[0m \u001b[0;34m[\u001b[0m\u001b[0mcollate\u001b[0m\u001b[0;34m(\u001b[0m\u001b[0msamples\u001b[0m\u001b[0;34m,\u001b[0m \u001b[0mcollate_fn_map\u001b[0m\u001b[0;34m=\u001b[0m\u001b[0mcollate_fn_map\u001b[0m\u001b[0;34m)\u001b[0m \u001b[0;32mfor\u001b[0m \u001b[0msamples\u001b[0m \u001b[0;32min\u001b[0m \u001b[0mtransposed\u001b[0m\u001b[0;34m]\u001b[0m  \u001b[0;31m# Backwards compatibility.\u001b[0m\u001b[0;34m\u001b[0m\u001b[0;34m\u001b[0m\u001b[0m\n\u001b[0m\u001b[1;32m    144\u001b[0m         \u001b[0;32melse\u001b[0m\u001b[0;34m:\u001b[0m\u001b[0;34m\u001b[0m\u001b[0;34m\u001b[0m\u001b[0m\n\u001b[1;32m    145\u001b[0m             \u001b[0;32mtry\u001b[0m\u001b[0;34m:\u001b[0m\u001b[0;34m\u001b[0m\u001b[0;34m\u001b[0m\u001b[0m\n",
      "\u001b[0;32m~/anaconda3/envs/ml4chem/lib/python3.7/site-packages/torch/utils/data/_utils/collate.py\u001b[0m in \u001b[0;36mcollate\u001b[0;34m(batch, collate_fn_map)\u001b[0m\n\u001b[1;32m    144\u001b[0m         \u001b[0;32melse\u001b[0m\u001b[0;34m:\u001b[0m\u001b[0;34m\u001b[0m\u001b[0;34m\u001b[0m\u001b[0m\n\u001b[1;32m    145\u001b[0m             \u001b[0;32mtry\u001b[0m\u001b[0;34m:\u001b[0m\u001b[0;34m\u001b[0m\u001b[0;34m\u001b[0m\u001b[0m\n\u001b[0;32m--> 146\u001b[0;31m                 \u001b[0;32mreturn\u001b[0m \u001b[0melem_type\u001b[0m\u001b[0;34m(\u001b[0m\u001b[0;34m[\u001b[0m\u001b[0mcollate\u001b[0m\u001b[0;34m(\u001b[0m\u001b[0msamples\u001b[0m\u001b[0;34m,\u001b[0m \u001b[0mcollate_fn_map\u001b[0m\u001b[0;34m=\u001b[0m\u001b[0mcollate_fn_map\u001b[0m\u001b[0;34m)\u001b[0m \u001b[0;32mfor\u001b[0m \u001b[0msamples\u001b[0m \u001b[0;32min\u001b[0m \u001b[0mtransposed\u001b[0m\u001b[0;34m]\u001b[0m\u001b[0;34m)\u001b[0m\u001b[0;34m\u001b[0m\u001b[0;34m\u001b[0m\u001b[0m\n\u001b[0m\u001b[1;32m    147\u001b[0m             \u001b[0;32mexcept\u001b[0m \u001b[0mTypeError\u001b[0m\u001b[0;34m:\u001b[0m\u001b[0;34m\u001b[0m\u001b[0;34m\u001b[0m\u001b[0m\n\u001b[1;32m    148\u001b[0m                 \u001b[0;31m# The sequence type may not support `__init__(iterable)` (e.g., `range`).\u001b[0m\u001b[0;34m\u001b[0m\u001b[0;34m\u001b[0m\u001b[0;34m\u001b[0m\u001b[0m\n",
      "\u001b[0;32m~/anaconda3/envs/ml4chem/lib/python3.7/site-packages/torch/utils/data/_utils/collate.py\u001b[0m in \u001b[0;36m<listcomp>\u001b[0;34m(.0)\u001b[0m\n\u001b[1;32m    144\u001b[0m         \u001b[0;32melse\u001b[0m\u001b[0;34m:\u001b[0m\u001b[0;34m\u001b[0m\u001b[0;34m\u001b[0m\u001b[0m\n\u001b[1;32m    145\u001b[0m             \u001b[0;32mtry\u001b[0m\u001b[0;34m:\u001b[0m\u001b[0;34m\u001b[0m\u001b[0;34m\u001b[0m\u001b[0m\n\u001b[0;32m--> 146\u001b[0;31m                 \u001b[0;32mreturn\u001b[0m \u001b[0melem_type\u001b[0m\u001b[0;34m(\u001b[0m\u001b[0;34m[\u001b[0m\u001b[0mcollate\u001b[0m\u001b[0;34m(\u001b[0m\u001b[0msamples\u001b[0m\u001b[0;34m,\u001b[0m \u001b[0mcollate_fn_map\u001b[0m\u001b[0;34m=\u001b[0m\u001b[0mcollate_fn_map\u001b[0m\u001b[0;34m)\u001b[0m \u001b[0;32mfor\u001b[0m \u001b[0msamples\u001b[0m \u001b[0;32min\u001b[0m \u001b[0mtransposed\u001b[0m\u001b[0;34m]\u001b[0m\u001b[0;34m)\u001b[0m\u001b[0;34m\u001b[0m\u001b[0;34m\u001b[0m\u001b[0m\n\u001b[0m\u001b[1;32m    147\u001b[0m             \u001b[0;32mexcept\u001b[0m \u001b[0mTypeError\u001b[0m\u001b[0;34m:\u001b[0m\u001b[0;34m\u001b[0m\u001b[0;34m\u001b[0m\u001b[0m\n\u001b[1;32m    148\u001b[0m                 \u001b[0;31m# The sequence type may not support `__init__(iterable)` (e.g., `range`).\u001b[0m\u001b[0;34m\u001b[0m\u001b[0;34m\u001b[0m\u001b[0;34m\u001b[0m\u001b[0m\n",
      "\u001b[0;32m~/anaconda3/envs/ml4chem/lib/python3.7/site-packages/torch/utils/data/_utils/collate.py\u001b[0m in \u001b[0;36mcollate\u001b[0;34m(batch, collate_fn_map)\u001b[0m\n\u001b[1;32m    118\u001b[0m     \u001b[0;32mif\u001b[0m \u001b[0mcollate_fn_map\u001b[0m \u001b[0;32mis\u001b[0m \u001b[0;32mnot\u001b[0m \u001b[0;32mNone\u001b[0m\u001b[0;34m:\u001b[0m\u001b[0;34m\u001b[0m\u001b[0;34m\u001b[0m\u001b[0m\n\u001b[1;32m    119\u001b[0m         \u001b[0;32mif\u001b[0m \u001b[0melem_type\u001b[0m \u001b[0;32min\u001b[0m \u001b[0mcollate_fn_map\u001b[0m\u001b[0;34m:\u001b[0m\u001b[0;34m\u001b[0m\u001b[0;34m\u001b[0m\u001b[0m\n\u001b[0;32m--> 120\u001b[0;31m             \u001b[0;32mreturn\u001b[0m \u001b[0mcollate_fn_map\u001b[0m\u001b[0;34m[\u001b[0m\u001b[0melem_type\u001b[0m\u001b[0;34m]\u001b[0m\u001b[0;34m(\u001b[0m\u001b[0mbatch\u001b[0m\u001b[0;34m,\u001b[0m \u001b[0mcollate_fn_map\u001b[0m\u001b[0;34m=\u001b[0m\u001b[0mcollate_fn_map\u001b[0m\u001b[0;34m)\u001b[0m\u001b[0;34m\u001b[0m\u001b[0;34m\u001b[0m\u001b[0m\n\u001b[0m\u001b[1;32m    121\u001b[0m \u001b[0;34m\u001b[0m\u001b[0m\n\u001b[1;32m    122\u001b[0m         \u001b[0;32mfor\u001b[0m \u001b[0mcollate_type\u001b[0m \u001b[0;32min\u001b[0m \u001b[0mcollate_fn_map\u001b[0m\u001b[0;34m:\u001b[0m\u001b[0;34m\u001b[0m\u001b[0;34m\u001b[0m\u001b[0m\n",
      "\u001b[0;32m~/anaconda3/envs/ml4chem/lib/python3.7/site-packages/torch/utils/data/_utils/collate.py\u001b[0m in \u001b[0;36mcollate_int_fn\u001b[0;34m(batch, collate_fn_map)\u001b[0m\n\u001b[1;32m    182\u001b[0m \u001b[0;34m\u001b[0m\u001b[0m\n\u001b[1;32m    183\u001b[0m \u001b[0;32mdef\u001b[0m \u001b[0mcollate_int_fn\u001b[0m\u001b[0;34m(\u001b[0m\u001b[0mbatch\u001b[0m\u001b[0;34m,\u001b[0m \u001b[0;34m*\u001b[0m\u001b[0;34m,\u001b[0m \u001b[0mcollate_fn_map\u001b[0m\u001b[0;34m:\u001b[0m \u001b[0mOptional\u001b[0m\u001b[0;34m[\u001b[0m\u001b[0mDict\u001b[0m\u001b[0;34m[\u001b[0m\u001b[0mUnion\u001b[0m\u001b[0;34m[\u001b[0m\u001b[0mType\u001b[0m\u001b[0;34m,\u001b[0m \u001b[0mTuple\u001b[0m\u001b[0;34m[\u001b[0m\u001b[0mType\u001b[0m\u001b[0;34m,\u001b[0m \u001b[0;34m...\u001b[0m\u001b[0;34m]\u001b[0m\u001b[0;34m]\u001b[0m\u001b[0;34m,\u001b[0m \u001b[0mCallable\u001b[0m\u001b[0;34m]\u001b[0m\u001b[0;34m]\u001b[0m \u001b[0;34m=\u001b[0m \u001b[0;32mNone\u001b[0m\u001b[0;34m)\u001b[0m\u001b[0;34m:\u001b[0m\u001b[0;34m\u001b[0m\u001b[0;34m\u001b[0m\u001b[0m\n\u001b[0;32m--> 184\u001b[0;31m     \u001b[0;32mreturn\u001b[0m \u001b[0mtorch\u001b[0m\u001b[0;34m.\u001b[0m\u001b[0mtensor\u001b[0m\u001b[0;34m(\u001b[0m\u001b[0mbatch\u001b[0m\u001b[0;34m)\u001b[0m\u001b[0;34m\u001b[0m\u001b[0;34m\u001b[0m\u001b[0m\n\u001b[0m\u001b[1;32m    185\u001b[0m \u001b[0;34m\u001b[0m\u001b[0m\n\u001b[1;32m    186\u001b[0m \u001b[0;34m\u001b[0m\u001b[0m\n",
      "\u001b[0;31mKeyboardInterrupt\u001b[0m: "
     ]
    }
   ],
   "source": [
    "for epoch in range(no_epochs):\n",
    "\n",
    "    total_train_loss = 0\n",
    "    model.train()\n",
    "    # training loop\n",
    "    for itr, (fingerprints, labels) in enumerate(train_dataloader):\n",
    "      #  if len(fingerprints) != batch_sz or len(labels) != batch_sz:\n",
    "       #     continue  # exclude incomplete batch\n",
    "\n",
    "        if (torch.cuda.is_available()):\n",
    "            model.cuda()\n",
    "            fingerprints = fingerprints.cuda()\n",
    "            labels = labels.cuda()\n",
    "\n",
    "        optimizer.zero_grad()\n",
    "\n",
    "        fingerprints_tensor = []\n",
    "        for fp in fingerprints:\n",
    "            fp_tensor = fp.clone().detach()\n",
    "            fingerprints_tensor.append(fp_tensor)\n",
    "        fingerprints = torch.stack(fingerprints_tensor)\n",
    "\n",
    "        fingerprints = fingerprints.to(model.layer1.weight.dtype)\n",
    "        model.to(torch.float32)\n",
    "\n",
    "        pred = model(fingerprints)\n",
    "\n",
    "        loss = criterion(pred, labels)\n",
    "        total_train_loss += loss.item()\n",
    "\n",
    "        loss.backward()\n",
    "        optimizer.step()\n",
    "\n",
    "    total_train_loss = total_train_loss / (itr + 1)\n",
    "    train_loss.append(total_train_loss)\n",
    "\n",
    "    total_val_loss = 0\n",
    "    total = 0\n",
    "    model.eval()\n",
    "    with torch.no_grad():\n",
    "        # validation loop\n",
    "        for itr, (fingerprints, labels) in enumerate(val_dataloader):\n",
    "\n",
    "            if (torch.cuda.is_available()):\n",
    "                model.cuda()\n",
    "                fingerprints = fingerprints.cuda()\n",
    "                labels = labels.cuda()\n",
    "\n",
    "            fingerprints_tensor = []\n",
    "            for fp in fingerprints:\n",
    "                fp_tensor = fp.clone().detach()\n",
    "                fingerprints_tensor.append(fp_tensor)\n",
    "            fingerprints = torch.stack(fingerprints_tensor)\n",
    "\n",
    "            pred = model(fingerprints)\n",
    "\n",
    "            loss = criterion(pred, labels)\n",
    "            total_val_loss += loss.item()\n",
    "\n",
    "            pred = torch.nn.functional.softmax(pred, dim=1)\n",
    "            for i, p in enumerate(pred):\n",
    "                if labels[i] == torch.max(p.data, 0)[1]:\n",
    "                    total = total + 1\n",
    "\n",
    "    accuracy = total / len(val_dataloader.dataset)\n",
    "\n",
    "    total_val_loss = total_val_loss / (itr + 1)\n",
    "    val_loss.append(total_val_loss)\n",
    "\n",
    "    print('\\nEpoch: {}/{}, Train Loss: {:.8f}, Val Loss: {:.8f}, Val Accuracy: {:.8f}'.format(epoch + 1, no_epochs, total_train_loss, total_val_loss, accuracy))\n",
    "\n",
    "    if total_val_loss < best_val_loss:\n",
    "        best_val_loss = total_val_loss\n",
    "        print(\"Saving the model state dictionary for Epoch: {} with Validation loss: {:.8f}\".format(epoch + 1, total_val_loss))\n",
    "        torch.save(model.state_dict(), \"model.dth\")"
   ]
  },
  {
   "cell_type": "markdown",
   "id": "be216e94",
   "metadata": {},
   "source": [
    "To-Do list:\n",
    "Read in dataset\n",
    "Train-Validation-Test splitting\n",
    "Clustering\n",
    "Plotting that\n",
    "Read the paper from exercise 5 (CNN)\n",
    "Implement CNN to identify motifs of the polymers"
   ]
  },
  {
   "cell_type": "markdown",
   "id": "309093b6",
   "metadata": {},
   "source": [
    "## Importing and splitting the data"
   ]
  },
  {
   "cell_type": "code",
   "execution_count": null,
   "id": "dbc84eff",
   "metadata": {},
   "outputs": [],
   "source": [
    "import csv\n",
    "import numpy as np\n",
    "from rdkit import Chem\n",
    "from rdkit.Chem import Draw"
   ]
  },
  {
   "cell_type": "markdown",
   "id": "f4768ac9",
   "metadata": {},
   "source": [
    "Import the dataset"
   ]
  },
  {
   "cell_type": "code",
   "execution_count": null,
   "id": "ce37dc65",
   "metadata": {},
   "outputs": [],
   "source": [
    "csvfile = 'polymers_dataset.csv'\n",
    "rows = []\n",
    "fingerprints = []\n",
    "nonzero_count = 0\n",
    "with open(csvfile, 'r') as csv_file:\n",
    "     csv_reader = csv.reader(csv_file, dialect='excel', delimiter=',')\n",
    "     line_count = 0\n",
    "     for row in csv_reader:\n",
    "          if line_count == 0:\n",
    "               pass\n",
    "          else:\n",
    "               rows.append([val for val in row[:3]])\n",
    "               fingerprints.append([int(val) for val in row[3:]])\n",
    "          line_count += 1\n"
   ]
  },
  {
   "cell_type": "markdown",
   "id": "587f18dc",
   "metadata": {},
   "source": [
    "Printing a certain index with data"
   ]
  },
  {
   "cell_type": "code",
   "execution_count": null,
   "id": "299c73ab",
   "metadata": {},
   "outputs": [],
   "source": [
    "nonzero_count = 0\n",
    "print('Number of polymers: ', len(rows))\n",
    "index = 411 #Change this value to see the data\n",
    "print(f\"Index {rows[index][0]} with SMILES {rows[index][1]}\")\n",
    "print('Label: ', rows[index][2])\n",
    "print('Fingerprint: ',fingerprints[index])\n",
    "for i in range(2048):\n",
    "     if fingerprints[index][i] != 0:\n",
    "          nonzero_count += 1\n",
    "print('Fingerprints == 1: ', nonzero_count)"
   ]
  },
  {
   "cell_type": "markdown",
   "id": "f5c8b0d5",
   "metadata": {},
   "source": [
    "Splitting the data into training, validation and testing data"
   ]
  },
  {
   "cell_type": "code",
   "execution_count": null,
   "id": "890f1136",
   "metadata": {},
   "outputs": [],
   "source": [
    "line_count = len(rows)\n",
    "indices = np.arange(line_count)\n",
    "indices_fin = np.arange(len(fingerprints))\n",
    "np.random.shuffle(indices)\n",
    "split_train = 80\n",
    "split_validation = 10\n",
    "split_test = 10\n",
    "train_end = int(line_count * split_train / 100)\n",
    "val_end = train_end + int(line_count * split_validation / 100)\n",
    "train_end_fin = int(len(fingerprints) * split_train / 100)\n",
    "val_end_fin = train_end_fin + int(len(fingerprints) * split_validation / 100)\n",
    "# Split data\n",
    "train = [rows[i] for i in indices[:train_end]]\n",
    "validation = [rows[i] for i in indices[train_end:val_end]]\n",
    "test = [rows[i] for i in indices[val_end:]]\n",
    "# Fingerprint data\n",
    "fin_train = [fingerprints[i] for i in indices_fin[:train_end_fin]]\n",
    "fin_validation = [fingerprints[i] for i in indices_fin[train_end_fin:val_end_fin]]\n",
    "fin_test = [fingerprints[i] for i in indices_fin[val_end_fin:]]\n",
    "#Labels data\n",
    "label_train = [train[i][2] for i in range(len(train))]\n",
    "label_validation = [validation[i][2] for i in range(len(validation))]\n",
    "label_test = [test[i][2] for i in range(len(test))]\n",
    "#Change strings to integers\n",
    "for i in range(len(label_train)):\n",
    "    if label_train[i] == 'peptide':\n",
    "        label_train[i] = 0\n",
    "    if label_train[i] == 'plastic':\n",
    "        label_train[i] = 1\n",
    "    if label_train[i] == 'oligosaccharide':\n",
    "        label_train[i] = 2\n",
    "for i in range(len(label_validation)):\n",
    "    if label_validation[i] == 'peptide':\n",
    "        label_validation[i] = 0\n",
    "    if label_validation[i] == 'plastic':\n",
    "        label_validation[i] = 1\n",
    "    if label_validation[i] == 'oligosaccharide':\n",
    "        label_validation[i] = 2\n",
    "for i in range(len(label_test)):\n",
    "    if label_test[i] == 'peptide':\n",
    "        label_test[i] = 0\n",
    "    if label_test[i] == 'plastic':\n",
    "        label_test[i] = 1\n",
    "    if label_test[i] == 'oligosaccharide':\n",
    "        label_test[i] = 2\n",
    "print(len(train),len(validation),len(test),len(train)+len(validation)+len(test),len(rows))\n",
    "print(test[len(test)-1])\n",
    "print(label_validation)"
   ]
  },
  {
   "cell_type": "markdown",
   "id": "0f80667b",
   "metadata": {},
   "source": [
    "Draw the selected molecule"
   ]
  },
  {
   "cell_type": "code",
   "execution_count": null,
   "id": "483c0428",
   "metadata": {},
   "outputs": [],
   "source": [
    "mol = Chem.MolFromSmiles(train[index][1])\n",
    "mol"
   ]
  },
  {
   "cell_type": "markdown",
   "id": "eb85cc9f",
   "metadata": {},
   "source": [
    "Calculate the probabilities of the 3 labels"
   ]
  },
  {
   "cell_type": "code",
   "execution_count": null,
   "id": "a7fd971c",
   "metadata": {},
   "outputs": [],
   "source": [
    "sugar = 0\n",
    "plastic = 0\n",
    "peptide = 0\n",
    "\n",
    "for i in range(len(rows)):\n",
    "    if rows[i][2] == 'peptide':\n",
    "        peptide += 1\n",
    "    elif rows[i][2] == 'plastic':\n",
    "        plastic += 1\n",
    "    elif rows[i][2] == 'oligosaccharide':\n",
    "        sugar += 1\n",
    "\n",
    "p_sugar = sugar / len(rows)\n",
    "p_plastic = plastic / len(rows)\n",
    "p_peptide = peptide / len(rows)\n",
    "print(f\"Probability of peptide, plastic or sugar for the label: {p_peptide:6.3f}, {p_plastic:6.3f}, {p_sugar:6.3f}.\")\n",
    "print('Total probability: ',p_sugar+p_plastic+p_peptide)\n"
   ]
  },
  {
   "cell_type": "markdown",
   "id": "2bfa8d30",
   "metadata": {},
   "source": [
    "## Make a Neural network to identify polymers"
   ]
  },
  {
   "cell_type": "markdown",
   "id": "fd831fd7",
   "metadata": {},
   "source": [
    "Importing libraries"
   ]
  },
  {
   "cell_type": "code",
   "execution_count": null,
   "id": "78a75b8b",
   "metadata": {},
   "outputs": [],
   "source": [
    "import torch\n",
    "from torchvision import transforms\n",
    "import torchvision.datasets as datasets\n",
    "import matplotlib.pyplot as plt"
   ]
  },
  {
   "cell_type": "markdown",
   "id": "6c0056ed",
   "metadata": {},
   "source": [
    "Prepare the data for the training, validation and testing data sets"
   ]
  },
  {
   "cell_type": "code",
   "execution_count": null,
   "id": "8ffc3bcf",
   "metadata": {},
   "outputs": [],
   "source": [
    "batch_sz = 256\n",
    "train_dataloader = torch.utils.data.DataLoader(list(zip(fin_train, label_train)), batch_size=batch_sz, shuffle=True)\n",
    "val_dataloader = torch.utils.data.DataLoader(list(zip(fin_validation, label_validation)), batch_size=batch_sz, shuffle=True)\n",
    "test_dataloader = torch.utils.data.DataLoader(list(zip(fin_test, label_test)), batch_size=batch_sz, shuffle=True)"
   ]
  },
  {
   "cell_type": "code",
   "execution_count": null,
   "id": "f10b3b92",
   "metadata": {},
   "outputs": [],
   "source": [
    "print(train_dataloader)"
   ]
  },
  {
   "cell_type": "markdown",
   "id": "f5377c72",
   "metadata": {},
   "source": [
    "Make the model with three layers: the 2048 fingerprints to a 128 hidden layer, then that layer goes to a 16 layer and then the last gives the 3 labels. The activation function used are ReLu and softmax."
   ]
  },
  {
   "cell_type": "code",
   "execution_count": null,
   "id": "2df601ad",
   "metadata": {},
   "outputs": [],
   "source": [
    "class Model(torch.nn.Module):\n",
    "    def __init__(self):\n",
    "            super(Model, self).__init__()\n",
    "            self.layer1 = torch.nn.Linear(2048, 128)\n",
    "            self.layer2 = torch.nn.Linear(128, 16)\n",
    "            self.layer3 = torch.nn.Linear(16, 3)\n",
    "            self.relu = torch.nn.ReLU()\n",
    "            self.softmax = torch.nn.Softmax(dim=1)\n",
    "\n",
    "    def forward(self, x):\n",
    "        x = x.transpose(0,1)\n",
    "        x = x.to(self.layer1.weight.dtype)\n",
    "        x = self.relu(self.layer1(x))\n",
    "        x = self.relu(self.layer2(x))\n",
    "        x = self.softmax(self.layer3(x))\n",
    "        return x"
   ]
  },
  {
   "cell_type": "markdown",
   "id": "e41fe05c",
   "metadata": {},
   "source": [
    "Settings for the Neural Network such as the criterion, optimizer, number of epochs"
   ]
  },
  {
   "cell_type": "code",
   "execution_count": null,
   "id": "10054471",
   "metadata": {},
   "outputs": [],
   "source": [
    "model = Model()\n",
    "criterion = torch.nn.CrossEntropyLoss()\n",
    "optimizer = torch.optim.Adam(model.parameters(), lr=0.0001)\n",
    "no_epochs = 50\n",
    "train_loss = list()\n",
    "val_loss = list()\n",
    "best_val_loss = 1\n",
    "#fingerprints_tensor = []\n",
    "##for fp in fingerprints:\n",
    "#    fp_tensor = fp.clone().detach()\n",
    "#    fingerprints_tensor.append(fp_tensor)\n",
    "#fingerprints = torch.stack(fingerprints_tensor)"
   ]
  },
  {
   "cell_type": "markdown",
   "id": "5bfedc4c",
   "metadata": {},
   "source": [
    "Training and validation loop"
   ]
  },
  {
   "cell_type": "code",
   "execution_count": null,
   "id": "35b6e363",
   "metadata": {},
   "outputs": [
    {
     "name": "stdout",
     "output_type": "stream",
     "text": [
      "\n",
      "Epoch: 1/50, Train Loss: 1.09913078, Val Loss: 1.10078565, Val Accuracy: 0.32669903\n",
      "\n",
      "Epoch: 2/50, Train Loss: 1.09825389, Val Loss: 1.09997578, Val Accuracy: 0.34417476\n",
      "\n",
      "Epoch: 3/50, Train Loss: 1.09741922, Val Loss: 1.09897090, Val Accuracy: 0.33883495\n",
      "\n",
      "Epoch: 4/50, Train Loss: 1.09657832, Val Loss: 1.09777810, Val Accuracy: 0.34126214\n",
      "\n",
      "Epoch: 5/50, Train Loss: 1.09533599, Val Loss: 1.09888838, Val Accuracy: 0.32233010\n",
      "\n",
      "Epoch: 6/50, Train Loss: 1.09405732, Val Loss: 1.09843704, Val Accuracy: 0.32184466\n",
      "\n",
      "Epoch: 7/50, Train Loss: 1.09250854, Val Loss: 1.10157899, Val Accuracy: 0.33834951\n",
      "\n",
      "Epoch: 8/50, Train Loss: 1.09056739, Val Loss: 1.09816020, Val Accuracy: 0.32718447\n",
      "\n",
      "Epoch: 9/50, Train Loss: 1.08818229, Val Loss: 1.09999976, Val Accuracy: 0.32621359\n",
      "\n",
      "Epoch: 10/50, Train Loss: 1.08542917, Val Loss: 1.10194707, Val Accuracy: 0.33495146\n",
      "\n",
      "Epoch: 11/50, Train Loss: 1.08218492, Val Loss: 1.10038673, Val Accuracy: 0.33543689\n",
      "\n",
      "Epoch: 12/50, Train Loss: 1.07851610, Val Loss: 1.09835667, Val Accuracy: 0.33300971\n",
      "\n",
      "Epoch: 13/50, Train Loss: 1.07477473, Val Loss: 1.10269248, Val Accuracy: 0.33640777\n",
      "\n",
      "Epoch: 14/50, Train Loss: 1.07115712, Val Loss: 1.10805550, Val Accuracy: 0.33737864\n"
     ]
    },
    {
     "ename": "KeyboardInterrupt",
     "evalue": "",
     "output_type": "error",
     "traceback": [
      "\u001b[0;31m---------------------------------------------------------------------------\u001b[0m\n",
      "\u001b[0;31mKeyboardInterrupt\u001b[0m                         Traceback (most recent call last)\n",
      "\u001b[0;32m/tmp/ipykernel_712/1003342549.py\u001b[0m in \u001b[0;36m<module>\u001b[0;34m\u001b[0m\n",
      "\u001b[1;32m     16\u001b[0m \u001b[0;34m\u001b[0m\u001b[0m\n",
      "\u001b[1;32m     17\u001b[0m         \u001b[0mfingerprints_tensor\u001b[0m \u001b[0;34m=\u001b[0m \u001b[0;34m[\u001b[0m\u001b[0;34m]\u001b[0m\u001b[0;34m\u001b[0m\u001b[0;34m\u001b[0m\u001b[0m\n",
      "\u001b[0;32m---> 18\u001b[0;31m         \u001b[0;32mfor\u001b[0m \u001b[0mfp\u001b[0m \u001b[0;32min\u001b[0m \u001b[0mfingerprints\u001b[0m\u001b[0;34m:\u001b[0m\u001b[0;34m\u001b[0m\u001b[0;34m\u001b[0m\u001b[0m\n",
      "\u001b[0m\u001b[1;32m     19\u001b[0m             \u001b[0mfp_tensor\u001b[0m \u001b[0;34m=\u001b[0m \u001b[0mfp\u001b[0m\u001b[0;34m.\u001b[0m\u001b[0mclone\u001b[0m\u001b[0;34m(\u001b[0m\u001b[0;34m)\u001b[0m\u001b[0;34m.\u001b[0m\u001b[0mdetach\u001b[0m\u001b[0;34m(\u001b[0m\u001b[0;34m)\u001b[0m\u001b[0;34m\u001b[0m\u001b[0;34m\u001b[0m\u001b[0m\n",
      "\u001b[1;32m     20\u001b[0m             \u001b[0mfingerprints_tensor\u001b[0m\u001b[0;34m.\u001b[0m\u001b[0mappend\u001b[0m\u001b[0;34m(\u001b[0m\u001b[0mfp_tensor\u001b[0m\u001b[0;34m)\u001b[0m\u001b[0;34m\u001b[0m\u001b[0;34m\u001b[0m\u001b[0m\n",
      "\n",
      "\u001b[0;31mKeyboardInterrupt\u001b[0m: "
     ]
    }
   ],
   "source": [
    "for epoch in range(no_epochs):\n",
    "\n",
    "    total_train_loss = 0\n",
    "    model.train()\n",
    "    # training loop\n",
    "    for itr, (fingerprints, labels) in enumerate(train_dataloader):\n",
    "      #  if len(fingerprints) != batch_sz or len(labels) != batch_sz:\n",
    "       #     continue  # exclude incomplete batch\n",
    "\n",
    "        if (torch.cuda.is_available()):\n",
    "            model.cuda()\n",
    "            fingerprints = fingerprints.cuda()\n",
    "            labels = labels.cuda()\n",
    "\n",
    "        optimizer.zero_grad()\n",
    "\n",
    "        fingerprints_tensor = []\n",
    "        for fp in fingerprints:\n",
    "            fp_tensor = fp.clone().detach()\n",
    "            fingerprints_tensor.append(fp_tensor)\n",
    "        fingerprints = torch.stack(fingerprints_tensor)\n",
    "\n",
    "        fingerprints = fingerprints.to(model.layer1.weight.dtype)\n",
    "        model.to(torch.float32)\n",
    "\n",
    "        pred = model(fingerprints)\n",
    "\n",
    "        loss = criterion(pred, labels)\n",
    "        total_train_loss += loss.item()\n",
    "\n",
    "        loss.backward()\n",
    "        optimizer.step()\n",
    "\n",
    "    total_train_loss = total_train_loss / (itr + 1)\n",
    "    train_loss.append(total_train_loss)\n",
    "\n",
    "    total_val_loss = 0\n",
    "    total = 0\n",
    "    model.eval()\n",
    "    with torch.no_grad():\n",
    "        # validation loop\n",
    "        for itr, (fingerprints, labels) in enumerate(val_dataloader):\n",
    "\n",
    "            if (torch.cuda.is_available()):\n",
    "                model.cuda()\n",
    "                fingerprints = fingerprints.cuda()\n",
    "                labels = labels.cuda()\n",
    "\n",
    "            fingerprints_tensor = []\n",
    "            for fp in fingerprints:\n",
    "                fp_tensor = fp.clone().detach()\n",
    "                fingerprints_tensor.append(fp_tensor)\n",
    "            fingerprints = torch.stack(fingerprints_tensor)\n",
    "\n",
    "            pred = model(fingerprints)\n",
    "\n",
    "            loss = criterion(pred, labels)\n",
    "            total_val_loss += loss.item()\n",
    "\n",
    "            pred = torch.nn.functional.softmax(pred, dim=1)\n",
    "            for i, p in enumerate(pred):\n",
    "                if labels[i] == torch.max(p.data, 0)[1]:\n",
    "                    total = total + 1\n",
    "\n",
    "    accuracy = total / len(val_dataloader.dataset)\n",
    "\n",
    "    total_val_loss = total_val_loss / (itr + 1)\n",
    "    val_loss.append(total_val_loss)\n",
    "\n",
    "    print('\\nEpoch: {}/{}, Train Loss: {:.8f}, Val Loss: {:.8f}, Val Accuracy: {:.8f}'.format(epoch + 1, no_epochs, total_train_loss, total_val_loss, accuracy))\n",
    "\n",
    "    if total_val_loss < best_val_loss:\n",
    "        best_val_loss = total_val_loss\n",
    "        print(\"Saving the model state dictionary for Epoch: {} with Validation loss: {:.8f}\".format(epoch + 1, total_val_loss))\n",
    "        torch.save(model.state_dict(), \"model.dth\")"
   ]
  },
  {
   "cell_type": "markdown",
   "id": "77496773",
   "metadata": {},
   "source": [
    "Printing the training and validation loss over number of epochs"
   ]
  },
  {
   "cell_type": "code",
   "execution_count": null,
   "id": "c5d0b758",
   "metadata": {},
   "outputs": [],
   "source": [
    "fig=plt.figure(figsize=(15, 10))\n",
    "plt.plot(np.arange(1, no_epochs+1), train_loss, label=\"Training loss\")\n",
    "plt.plot(np.arange(1, no_epochs+1), val_loss, label=\"Validation loss\")\n",
    "plt.xlabel('Loss')\n",
    "plt.ylabel('Epochs')\n",
    "plt.title(\"Loss Plots\")\n",
    "plt.legend(loc='upper right')\n",
    "plt.show()"
   ]
  },
  {
   "cell_type": "code",
   "execution_count": null,
   "id": "eabe0e0f",
   "metadata": {},
   "outputs": [],
   "source": [
    "#here goes in PCA code\n",
    "#will add in later"
   ]
  },
  {
   "attachments": {},
   "cell_type": "markdown",
   "id": "8073a595",
   "metadata": {},
   "source": [
    "Printing the training and validation loss over number of epochs"
   ]
  },
  {
   "cell_type": "code",
   "execution_count": null,
   "id": "4f285582",
   "metadata": {},
   "outputs": [],
   "source": [
    "fig=plt.figure(figsize=(15, 10))\n",
    "plt.plot(np.arange(1, no_epochs+1), train_loss, label=\"Training loss\")\n",
    "plt.plot(np.arange(1, no_epochs+1), val_loss, label=\"Validation loss\")\n",
    "plt.xlabel('Loss')\n",
    "plt.ylabel('Epochs')\n",
    "plt.title(\"Loss Plots\")\n",
    "plt.legend(loc='upper right')\n",
    "plt.show()"
   ]
  },
  {
   "cell_type": "code",
   "execution_count": null,
   "id": "4692a1f3",
   "metadata": {},
   "outputs": [],
   "source": [
    "#here goes in PCA code\n",
    "#will add in later"
   ]
  },
  {
   "cell_type": "code",
   "execution_count": 1,
   "id": "5ca6e7d4",
   "metadata": {},
   "outputs": [
    {
     "name": "stderr",
     "output_type": "stream",
     "text": [
      "/home/djkeizer/anaconda3/envs/ml4chem/lib/python3.7/site-packages/tensorflow/python/framework/dtypes.py:516: FutureWarning: Passing (type, 1) or '1type' as a synonym of type is deprecated; in a future version of numpy, it will be understood as (type, (1,)) / '(1,)type'.\n",
      "  _np_qint8 = np.dtype([(\"qint8\", np.int8, 1)])\n",
      "/home/djkeizer/anaconda3/envs/ml4chem/lib/python3.7/site-packages/tensorflow/python/framework/dtypes.py:517: FutureWarning: Passing (type, 1) or '1type' as a synonym of type is deprecated; in a future version of numpy, it will be understood as (type, (1,)) / '(1,)type'.\n",
      "  _np_quint8 = np.dtype([(\"quint8\", np.uint8, 1)])\n",
      "/home/djkeizer/anaconda3/envs/ml4chem/lib/python3.7/site-packages/tensorflow/python/framework/dtypes.py:518: FutureWarning: Passing (type, 1) or '1type' as a synonym of type is deprecated; in a future version of numpy, it will be understood as (type, (1,)) / '(1,)type'.\n",
      "  _np_qint16 = np.dtype([(\"qint16\", np.int16, 1)])\n",
      "/home/djkeizer/anaconda3/envs/ml4chem/lib/python3.7/site-packages/tensorflow/python/framework/dtypes.py:519: FutureWarning: Passing (type, 1) or '1type' as a synonym of type is deprecated; in a future version of numpy, it will be understood as (type, (1,)) / '(1,)type'.\n",
      "  _np_quint16 = np.dtype([(\"quint16\", np.uint16, 1)])\n",
      "/home/djkeizer/anaconda3/envs/ml4chem/lib/python3.7/site-packages/tensorflow/python/framework/dtypes.py:520: FutureWarning: Passing (type, 1) or '1type' as a synonym of type is deprecated; in a future version of numpy, it will be understood as (type, (1,)) / '(1,)type'.\n",
      "  _np_qint32 = np.dtype([(\"qint32\", np.int32, 1)])\n",
      "/home/djkeizer/anaconda3/envs/ml4chem/lib/python3.7/site-packages/tensorflow/python/framework/dtypes.py:525: FutureWarning: Passing (type, 1) or '1type' as a synonym of type is deprecated; in a future version of numpy, it will be understood as (type, (1,)) / '(1,)type'.\n",
      "  np_resource = np.dtype([(\"resource\", np.ubyte, 1)])\n",
      "/home/djkeizer/anaconda3/envs/ml4chem/lib/python3.7/site-packages/tensorboard/compat/tensorflow_stub/dtypes.py:541: FutureWarning: Passing (type, 1) or '1type' as a synonym of type is deprecated; in a future version of numpy, it will be understood as (type, (1,)) / '(1,)type'.\n",
      "  _np_qint8 = np.dtype([(\"qint8\", np.int8, 1)])\n",
      "/home/djkeizer/anaconda3/envs/ml4chem/lib/python3.7/site-packages/tensorboard/compat/tensorflow_stub/dtypes.py:542: FutureWarning: Passing (type, 1) or '1type' as a synonym of type is deprecated; in a future version of numpy, it will be understood as (type, (1,)) / '(1,)type'.\n",
      "  _np_quint8 = np.dtype([(\"quint8\", np.uint8, 1)])\n",
      "/home/djkeizer/anaconda3/envs/ml4chem/lib/python3.7/site-packages/tensorboard/compat/tensorflow_stub/dtypes.py:543: FutureWarning: Passing (type, 1) or '1type' as a synonym of type is deprecated; in a future version of numpy, it will be understood as (type, (1,)) / '(1,)type'.\n",
      "  _np_qint16 = np.dtype([(\"qint16\", np.int16, 1)])\n",
      "/home/djkeizer/anaconda3/envs/ml4chem/lib/python3.7/site-packages/tensorboard/compat/tensorflow_stub/dtypes.py:544: FutureWarning: Passing (type, 1) or '1type' as a synonym of type is deprecated; in a future version of numpy, it will be understood as (type, (1,)) / '(1,)type'.\n",
      "  _np_quint16 = np.dtype([(\"quint16\", np.uint16, 1)])\n",
      "/home/djkeizer/anaconda3/envs/ml4chem/lib/python3.7/site-packages/tensorboard/compat/tensorflow_stub/dtypes.py:545: FutureWarning: Passing (type, 1) or '1type' as a synonym of type is deprecated; in a future version of numpy, it will be understood as (type, (1,)) / '(1,)type'.\n",
      "  _np_qint32 = np.dtype([(\"qint32\", np.int32, 1)])\n",
      "/home/djkeizer/anaconda3/envs/ml4chem/lib/python3.7/site-packages/tensorboard/compat/tensorflow_stub/dtypes.py:550: FutureWarning: Passing (type, 1) or '1type' as a synonym of type is deprecated; in a future version of numpy, it will be understood as (type, (1,)) / '(1,)type'.\n",
      "  np_resource = np.dtype([(\"resource\", np.ubyte, 1)])\n"
     ]
    },
    {
     "name": "stdout",
     "output_type": "stream",
     "text": [
      "WARNING:tensorflow:From /home/djkeizer/anaconda3/envs/ml4chem/lib/python3.7/site-packages/tensorflow/python/ops/init_ops.py:1251: calling VarianceScaling.__init__ (from tensorflow.python.ops.init_ops) with dtype is deprecated and will be removed in a future version.\n",
      "Instructions for updating:\n",
      "Call initializer instance with the dtype argument instead of passing it to the constructor\n",
      "Model: \"sequential\"\n",
      "_________________________________________________________________\n",
      "Layer (type)                 Output Shape              Param #   \n",
      "=================================================================\n",
      "dense (Dense)                (None, 128)               262272    \n",
      "_________________________________________________________________\n",
      "dense_1 (Dense)              (None, 16)                2064      \n",
      "_________________________________________________________________\n",
      "dense_2 (Dense)              (None, 3)                 51        \n",
      "=================================================================\n",
      "Total params: 264,387\n",
      "Trainable params: 264,387\n",
      "Non-trainable params: 0\n",
      "_________________________________________________________________\n",
      "Train on 16487 samples, validate on 4122 samples\n"
     ]
    },
    {
     "name": "stderr",
     "output_type": "stream",
     "text": [
      "2023-04-26 21:30:03.279992: I tensorflow/core/platform/cpu_feature_guard.cc:142] Your CPU supports instructions that this TensorFlow binary was not compiled to use: SSE4.1 SSE4.2 AVX AVX2 FMA\n",
      "2023-04-26 21:30:03.330526: I tensorflow/core/platform/profile_utils/cpu_utils.cc:94] CPU Frequency: 3201000000 Hz\n",
      "2023-04-26 21:30:03.332569: I tensorflow/compiler/xla/service/service.cc:168] XLA service 0x366ca80 executing computations on platform Host. Devices:\n",
      "2023-04-26 21:30:03.332641: I tensorflow/compiler/xla/service/service.cc:175]   StreamExecutor device (0): <undefined>, <undefined>\n",
      "2023-04-26 21:30:03.411360: W tensorflow/compiler/jit/mark_for_compilation_pass.cc:1412] (One-time warning): Not using XLA:CPU for cluster because envvar TF_XLA_FLAGS=--tf_xla_cpu_global_jit was not set.  If you want XLA:CPU, either set that envvar, or use experimental_jit_scope to enable XLA:CPU.  To confirm that XLA is active, pass --vmodule=xla_compilation_cache=1 (as a proper command-line flag, not via TF_XLA_FLAGS) or set the envvar XLA_FLAGS=--xla_hlo_profile.\n"
     ]
    },
    {
     "name": "stdout",
     "output_type": "stream",
     "text": [
      "Epoch 1/50\n",
      "16487/16487 [==============================] - 1s 38us/sample - loss: 0.0217 - acc: 0.9961 - val_loss: 2.8722e-04 - val_acc: 1.0000\n",
      "Epoch 2/50\n",
      "16487/16487 [==============================] - 0s 28us/sample - loss: 1.3068e-04 - acc: 1.0000 - val_loss: 1.0436e-04 - val_acc: 1.0000\n",
      "Epoch 3/50\n",
      "16487/16487 [==============================] - 0s 28us/sample - loss: 5.1362e-05 - acc: 1.0000 - val_loss: 5.6608e-05 - val_acc: 1.0000\n",
      "Epoch 4/50\n",
      "16487/16487 [==============================] - 0s 28us/sample - loss: 2.7141e-05 - acc: 1.0000 - val_loss: 3.6455e-05 - val_acc: 1.0000\n",
      "Epoch 5/50\n",
      "16487/16487 [==============================] - 0s 27us/sample - loss: 1.6568e-05 - acc: 1.0000 - val_loss: 2.5895e-05 - val_acc: 1.0000\n",
      "Epoch 6/50\n",
      "16487/16487 [==============================] - 0s 26us/sample - loss: 1.1032e-05 - acc: 1.0000 - val_loss: 1.9464e-05 - val_acc: 1.0000\n",
      "Epoch 7/50\n",
      "16487/16487 [==============================] - 0s 28us/sample - loss: 7.7894e-06 - acc: 1.0000 - val_loss: 1.5253e-05 - val_acc: 1.0000\n",
      "Epoch 8/50\n",
      "16487/16487 [==============================] - 0s 28us/sample - loss: 5.7198e-06 - acc: 1.0000 - val_loss: 1.2235e-05 - val_acc: 1.0000\n",
      "Epoch 9/50\n",
      "16487/16487 [==============================] - 0s 29us/sample - loss: 4.3197e-06 - acc: 1.0000 - val_loss: 1.0088e-05 - val_acc: 1.0000\n",
      "Epoch 10/50\n",
      "16487/16487 [==============================] - 0s 27us/sample - loss: 3.3381e-06 - acc: 1.0000 - val_loss: 8.4005e-06 - val_acc: 1.0000\n",
      "Epoch 11/50\n",
      "16487/16487 [==============================] - 0s 27us/sample - loss: 2.6220e-06 - acc: 1.0000 - val_loss: 7.0886e-06 - val_acc: 1.0000\n",
      "Epoch 12/50\n",
      "16487/16487 [==============================] - 0s 27us/sample - loss: 2.0881e-06 - acc: 1.0000 - val_loss: 6.0487e-06 - val_acc: 1.0000\n",
      "Epoch 13/50\n",
      "16487/16487 [==============================] - 0s 28us/sample - loss: 1.6843e-06 - acc: 1.0000 - val_loss: 5.2037e-06 - val_acc: 1.0000\n",
      "Epoch 14/50\n",
      "16487/16487 [==============================] - 0s 27us/sample - loss: 1.3709e-06 - acc: 1.0000 - val_loss: 4.5326e-06 - val_acc: 1.0000\n",
      "Epoch 15/50\n",
      "16487/16487 [==============================] - 0s 29us/sample - loss: 1.1217e-06 - acc: 1.0000 - val_loss: 3.9447e-06 - val_acc: 1.0000\n",
      "Epoch 16/50\n",
      "16487/16487 [==============================] - 0s 28us/sample - loss: 9.2714e-07 - acc: 1.0000 - val_loss: 3.4481e-06 - val_acc: 1.0000\n",
      "Epoch 17/50\n",
      "16487/16487 [==============================] - 0s 29us/sample - loss: 7.7066e-07 - acc: 1.0000 - val_loss: 3.0511e-06 - val_acc: 1.0000\n",
      "Epoch 18/50\n",
      "16487/16487 [==============================] - 0s 27us/sample - loss: 6.4607e-07 - acc: 1.0000 - val_loss: 2.6920e-06 - val_acc: 1.0000\n",
      "Epoch 19/50\n",
      "16487/16487 [==============================] - 0s 27us/sample - loss: 5.3969e-07 - acc: 1.0000 - val_loss: 2.3962e-06 - val_acc: 1.0000\n",
      "Epoch 20/50\n",
      "16487/16487 [==============================] - 0s 28us/sample - loss: 4.5668e-07 - acc: 1.0000 - val_loss: 2.1209e-06 - val_acc: 1.0000\n",
      "Epoch 21/50\n",
      "16487/16487 [==============================] - 0s 27us/sample - loss: 3.8648e-07 - acc: 1.0000 - val_loss: 1.8913e-06 - val_acc: 1.0000\n",
      "Epoch 22/50\n",
      "16487/16487 [==============================] - 0s 29us/sample - loss: 3.2224e-07 - acc: 1.0000 - val_loss: 1.6925e-06 - val_acc: 1.0000\n",
      "Epoch 23/50\n",
      "16487/16487 [==============================] - 0s 27us/sample - loss: 2.7365e-07 - acc: 1.0000 - val_loss: 1.5096e-06 - val_acc: 1.0000\n",
      "Epoch 24/50\n",
      "16487/16487 [==============================] - 0s 28us/sample - loss: 2.3346e-07 - acc: 1.0000 - val_loss: 1.3536e-06 - val_acc: 1.0000\n",
      "Epoch 25/50\n",
      "16487/16487 [==============================] - 0s 29us/sample - loss: 1.9928e-07 - acc: 1.0000 - val_loss: 1.2107e-06 - val_acc: 1.0000\n",
      "Epoch 26/50\n",
      "16487/16487 [==============================] - 0s 29us/sample - loss: 1.7106e-07 - acc: 1.0000 - val_loss: 1.0932e-06 - val_acc: 1.0000\n",
      "Epoch 27/50\n",
      "16487/16487 [==============================] - 0s 27us/sample - loss: 1.4732e-07 - acc: 1.0000 - val_loss: 9.8202e-07 - val_acc: 1.0000\n",
      "Epoch 28/50\n",
      "16487/16487 [==============================] - 0s 30us/sample - loss: 1.2669e-07 - acc: 1.0000 - val_loss: 8.8789e-07 - val_acc: 1.0000\n",
      "Epoch 29/50\n",
      "16487/16487 [==============================] - 0s 27us/sample - loss: 1.0605e-07 - acc: 1.0000 - val_loss: 7.9239e-07 - val_acc: 1.0000\n",
      "Epoch 30/50\n",
      "16487/16487 [==============================] - 0s 28us/sample - loss: 8.9158e-08 - acc: 1.0000 - val_loss: 7.1615e-07 - val_acc: 1.0000\n",
      "Epoch 31/50\n",
      "16487/16487 [==============================] - 0s 28us/sample - loss: 7.6635e-08 - acc: 1.0000 - val_loss: 6.4469e-07 - val_acc: 1.0000\n",
      "Epoch 32/50\n",
      "16487/16487 [==============================] - 0s 28us/sample - loss: 6.5659e-08 - acc: 1.0000 - val_loss: 5.8204e-07 - val_acc: 1.0000\n",
      "Epoch 33/50\n",
      "16487/16487 [==============================] - 0s 29us/sample - loss: 5.6578e-08 - acc: 1.0000 - val_loss: 5.2481e-07 - val_acc: 1.0000\n",
      "Epoch 34/50\n",
      "16487/16487 [==============================] - 0s 30us/sample - loss: 4.8776e-08 - acc: 1.0000 - val_loss: 4.7592e-07 - val_acc: 1.0000\n",
      "Epoch 35/50\n",
      "16487/16487 [==============================] - 0s 27us/sample - loss: 4.2088e-08 - acc: 1.0000 - val_loss: 4.3059e-07 - val_acc: 1.0000\n",
      "Epoch 36/50\n",
      "16487/16487 [==============================] - 0s 26us/sample - loss: 3.6579e-08 - acc: 1.0000 - val_loss: 3.8921e-07 - val_acc: 1.0000\n",
      "Epoch 37/50\n",
      "16487/16487 [==============================] - 0s 27us/sample - loss: 3.1272e-08 - acc: 1.0000 - val_loss: 3.5711e-07 - val_acc: 1.0000\n",
      "Epoch 38/50\n",
      "16487/16487 [==============================] - 0s 29us/sample - loss: 2.6709e-08 - acc: 1.0000 - val_loss: 3.1994e-07 - val_acc: 1.0000\n",
      "Epoch 39/50\n",
      "16487/16487 [==============================] - 0s 30us/sample - loss: 2.3137e-08 - acc: 1.0000 - val_loss: 2.8985e-07 - val_acc: 1.0000\n",
      "Epoch 40/50\n",
      "16487/16487 [==============================] - 0s 26us/sample - loss: 2.0086e-08 - acc: 1.0000 - val_loss: 2.6355e-07 - val_acc: 1.0000\n",
      "Epoch 41/50\n",
      "16487/16487 [==============================] - 0s 27us/sample - loss: 1.7389e-08 - acc: 1.0000 - val_loss: 2.4003e-07 - val_acc: 1.0000\n",
      "Epoch 42/50\n",
      "16487/16487 [==============================] - 0s 27us/sample - loss: 1.5047e-08 - acc: 1.0000 - val_loss: 2.1734e-07 - val_acc: 1.0000\n",
      "Epoch 43/50\n",
      "16487/16487 [==============================] - 0s 29us/sample - loss: 1.3080e-08 - acc: 1.0000 - val_loss: 1.9791e-07 - val_acc: 1.0000\n",
      "Epoch 44/50\n",
      "16487/16487 [==============================] - 0s 27us/sample - loss: 1.1511e-08 - acc: 1.0000 - val_loss: 1.8152e-07 - val_acc: 1.0000\n",
      "Epoch 45/50\n",
      "16487/16487 [==============================] - 0s 28us/sample - loss: 9.9564e-09 - acc: 1.0000 - val_loss: 1.6293e-07 - val_acc: 1.0000\n",
      "Epoch 46/50\n",
      "16487/16487 [==============================] - 0s 28us/sample - loss: 8.6983e-09 - acc: 1.0000 - val_loss: 1.4833e-07 - val_acc: 1.0000\n",
      "Epoch 47/50\n",
      "16487/16487 [==============================] - 0s 30us/sample - loss: 7.4257e-09 - acc: 1.0000 - val_loss: 1.3590e-07 - val_acc: 1.0000\n",
      "Epoch 48/50\n",
      "16487/16487 [==============================] - 0s 28us/sample - loss: 6.5291e-09 - acc: 1.0000 - val_loss: 1.2318e-07 - val_acc: 1.0000\n",
      "Epoch 49/50\n",
      "16487/16487 [==============================] - 0s 29us/sample - loss: 5.6398e-09 - acc: 1.0000 - val_loss: 1.1257e-07 - val_acc: 1.0000\n",
      "Epoch 50/50\n",
      "16487/16487 [==============================] - 0s 28us/sample - loss: 4.8950e-09 - acc: 1.0000 - val_loss: 1.0349e-07 - val_acc: 1.0000\n"
     ]
    }
   ],
   "source": [
    "import numpy as np\n",
    "import pandas as pd\n",
    "from sklearn.model_selection import train_test_split\n",
    "from sklearn.preprocessing import OneHotEncoder\n",
    "data = pd.read_csv('polymers_dataset.csv')\n",
    "#Select predictor variables\n",
    "X = data.iloc[:,3:].values\n",
    "\n",
    "#Transform target variable using OneHotEncoder()\n",
    "ohe = OneHotEncoder()\n",
    "\n",
    "y_one_hot = ohe.fit_transform(np.array(data['label']).reshape(-1,1)).toarray()\n",
    "\n",
    "#Create train and test sets, using 20% of the data for the test set\n",
    "X_train, X_test, y_train, y_test = train_test_split(X, y_one_hot, test_size = 0.2, random_state=0)\n",
    "from tensorflow.python.keras.layers import Input, Dense\n",
    "from tensorflow.python.keras.models import Sequential\n",
    "\n",
    "# Neural network\n",
    "model = Sequential()\n",
    "model.add(Dense(128, input_dim=2048, activation='relu'))\n",
    "model.add(Dense(16, activation='relu'))\n",
    "model.add(Dense(3, activation='softmax'))\n",
    "\n",
    "#Summarize and compile model\n",
    "model.summary()\n",
    "model.compile(loss='categorical_crossentropy', \n",
    "              optimizer='adam',\n",
    "              metrics=['accuracy'])\n",
    "history = model.fit(X_train, y_train, epochs=50, batch_size=64, validation_data=(X_test, y_test))\n"
   ]
  },
  {
   "cell_type": "code",
   "execution_count": 4,
   "id": "d78d7817",
   "metadata": {},
   "outputs": [
    {
     "data": {
      "text/plain": [
       "Text(0.5, 1.0, 'Confusion Matrix-Neural Network')"
      ]
     },
     "execution_count": 4,
     "metadata": {},
     "output_type": "execute_result"
    },
    {
     "data": {
      "image/png": "[encoded data removed]",
      "text/plain": [
       "<Figure size 640x480 with 2 Axes>"
      ]
     },
     "metadata": {},
     "output_type": "display_data"
    }
   ],
   "source": [
    "from sklearn.metrics import confusion_matrix\n",
    "import seaborn as sns\n",
    "import matplotlib.pyplot as plt\n",
    "\n",
    "#Compute predicted values\n",
    "prediction = model.predict(X_test).round()\n",
    "\n",
    "#We create a function to transform the one-hot encoded arrays into an array of single values\n",
    "def decoder(values):\n",
    "  \n",
    "  '''This function takes a vector of one-hot encoded arrays and returns\n",
    "  the index of the corresponding object (0, 1 or 2)'''\n",
    "    \n",
    "  decoded = []\n",
    "\n",
    "  for i in values:\n",
    "    x = np.argmax(i)\n",
    "    decoded.append(x)\n",
    "  \n",
    "  return decoded\n",
    "  \n",
    "\n",
    "predicted = decoder(prediction)\n",
    "\n",
    "real = decoder(y_test)\n",
    "\n",
    "#Create confusion matrix\n",
    "conf = confusion_matrix(predicted, real)\n",
    "\n",
    "sns.heatmap(conf, annot=True, cmap = 'viridis')\n",
    "plt.title('Confusion Matrix-Neural Network')"
   ]
  },
  {
   "cell_type": "code",
   "execution_count": 5,
   "id": "8db6444b",
   "metadata": {},
   "outputs": [
    {
     "name": "stdout",
     "output_type": "stream",
     "text": [
      "Random Forest accuracy: 1.0\n"
     ]
    }
   ],
   "source": [
    "from sklearn.ensemble import RandomForestClassifier\n",
    "\n",
    "#Create Random Forest\n",
    "rf = RandomForestClassifier(random_state=0)\n",
    "\n",
    "#Train Random Forest\n",
    "rf.fit(X_train, y_train)\n",
    "\n",
    "#Compute Random Forest accuracy\n",
    "score = rf.score(X_test, y_test)\n",
    "\n",
    "print('Random Forest accuracy: {0}'.format(score))"
   ]
  },
  {
   "cell_type": "code",
   "execution_count": 6,
   "id": "475488e0",
   "metadata": {},
   "outputs": [
    {
     "data": {
      "text/plain": [
       "Text(0.5, 1.0, 'Confusion matrix-Random Forest')"
      ]
     },
     "execution_count": 6,
     "metadata": {},
     "output_type": "execute_result"
    },
    {
     "data": {
      "image/png": "[encoded data removed]",
      "text/plain": [
       "<Figure size 640x480 with 2 Axes>"
      ]
     },
     "metadata": {},
     "output_type": "display_data"
    }
   ],
   "source": [
    "rf_prediction = decoder(rf.predict(X_test))\n",
    "\n",
    "rf_true = decoder(y_test)\n",
    "\n",
    "cm = confusion_matrix(rf_prediction, rf_true)\n",
    "\n",
    "sns.heatmap(cm, annot=True, cmap = 'viridis')\n",
    "\n",
    "plt.title('Confusion matrix-Random Forest')"
   ]
  },
  {
   "cell_type": "code",
   "execution_count": 3,
   "id": "3fc56f2e",
   "metadata": {},
   "outputs": [
    {
     "ename": "TypeError",
     "evalue": "scatterplot() takes from 0 to 1 positional arguments but 2 positional arguments (and 1 keyword-only argument) were given",
     "output_type": "error",
     "traceback": [
      "\u001b[0;31m---------------------------------------------------------------------------\u001b[0m",
      "\u001b[0;31mTypeError\u001b[0m                                 Traceback (most recent call last)",
      "\u001b[0;32m/tmp/ipykernel_14861/3393294231.py\u001b[0m in \u001b[0;36m<module>\u001b[0;34m\u001b[0m\n\u001b[1;32m      9\u001b[0m \u001b[0;34m\u001b[0m\u001b[0m\n\u001b[1;32m     10\u001b[0m \u001b[0;31m#Plot the groups using\u001b[0m\u001b[0;34m\u001b[0m\u001b[0;34m\u001b[0m\u001b[0;34m\u001b[0m\u001b[0m\n\u001b[0;32m---> 11\u001b[0;31m \u001b[0msns\u001b[0m\u001b[0;34m.\u001b[0m\u001b[0mscatterplot\u001b[0m\u001b[0;34m(\u001b[0m\u001b[0mcoords\u001b[0m\u001b[0;34m[\u001b[0m\u001b[0;34m:\u001b[0m\u001b[0;34m,\u001b[0m\u001b[0;36m0\u001b[0m\u001b[0;34m]\u001b[0m\u001b[0;34m,\u001b[0m \u001b[0mcoords\u001b[0m\u001b[0;34m[\u001b[0m\u001b[0;34m:\u001b[0m\u001b[0;34m,\u001b[0m\u001b[0;36m1\u001b[0m\u001b[0;34m]\u001b[0m\u001b[0;34m,\u001b[0m \u001b[0mhue\u001b[0m\u001b[0;34m=\u001b[0m\u001b[0mdata\u001b[0m\u001b[0;34m[\u001b[0m\u001b[0;34m'label'\u001b[0m\u001b[0;34m]\u001b[0m\u001b[0;34m.\u001b[0m\u001b[0mvalues\u001b[0m\u001b[0;34m)\u001b[0m\u001b[0;34m\u001b[0m\u001b[0;34m\u001b[0m\u001b[0m\n\u001b[0m\u001b[1;32m     12\u001b[0m \u001b[0mplt\u001b[0m\u001b[0;34m.\u001b[0m\u001b[0mxlabel\u001b[0m\u001b[0;34m(\u001b[0m\u001b[0;34m'PC1'\u001b[0m\u001b[0;34m)\u001b[0m\u001b[0;34m\u001b[0m\u001b[0;34m\u001b[0m\u001b[0m\n\u001b[1;32m     13\u001b[0m \u001b[0mplt\u001b[0m\u001b[0;34m.\u001b[0m\u001b[0mylabel\u001b[0m\u001b[0;34m(\u001b[0m\u001b[0;34m'PC2'\u001b[0m\u001b[0;34m)\u001b[0m\u001b[0;34m\u001b[0m\u001b[0;34m\u001b[0m\u001b[0m\n",
      "\u001b[0;31mTypeError\u001b[0m: scatterplot() takes from 0 to 1 positional arguments but 2 positional arguments (and 1 keyword-only argument) were given"
     ]
    }
   ],
   "source": [
    "from sklearn.decomposition import PCA\n",
    "import seaborn as sns\n",
    "\n",
    "#Create PCA with 2 components\n",
    "pca = PCA(n_components=2)\n",
    "\n",
    "#Reduce dimensions of the original set\n",
    "coords = pca.fit_transform(X)\n",
    "\n",
    "#Plot the groups using \n",
    "sns.scatterplot(coords[:,0], coords[:,1], hue=data['label'].values)\n",
    "plt.xlabel('PC1')\n",
    "plt.ylabel('PC2')\n",
    "plt.title('PCA clustering')"
   ]
  },
  {
   "cell_type": "code",
   "execution_count": null,
   "id": "534a2ef8",
   "metadata": {},
   "outputs": [],
   "source": []
  }
 ],
 "metadata": {
  "kernelspec": {
   "display_name": "Python 3 (ipykernel)",
   "language": "python",
   "name": "python3"
  },
  "language_info": {
   "codemirror_mode": {
    "name": "ipython",
    "version": 3
   },
   "file_extension": ".py",
   "mimetype": "text/x-python",
   "name": "python",
   "nbconvert_exporter": "python",
   "pygments_lexer": "ipython3",
   "version": "3.7.16"
  }
 },
 "nbformat": 4,
 "nbformat_minor": 5
}
