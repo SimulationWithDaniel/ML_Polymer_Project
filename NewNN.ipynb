{
 "cells": [
  {
   "cell_type": "code",
   "execution_count": 2,
   "id": "38f554cb",
   "metadata": {},
   "outputs": [],
   "source": [
    "import csv\n",
    "import numpy as np\n",
    "from rdkit import Chem\n",
    "from rdkit.Chem import Draw"
   ]
  },
  {
   "cell_type": "code",
   "execution_count": 3,
   "id": "e0012016",
   "metadata": {},
   "outputs": [],
   "source": [
    "csvfile = 'polymers_dataset.csv'\n",
    "rows = []\n",
    "fingerprints = []\n",
    "nonzero_count = 0\n",
    "with open(csvfile, 'r') as csv_file:\n",
    "     csv_reader = csv.reader(csv_file, dialect='excel', delimiter=',')\n",
    "     line_count = 0\n",
    "     for row in csv_reader:\n",
    "          if line_count == 0:\n",
    "               pass\n",
    "          else:\n",
    "               rows.append([val for val in row[:3]])\n",
    "               fingerprints.append([int(val) for val in row[3:]])\n",
    "          line_count += 1\n"
   ]
  },
  {
   "cell_type": "code",
   "execution_count": 16,
   "id": "11983873",
   "metadata": {},
   "outputs": [
    {
     "name": "stdout",
     "output_type": "stream",
     "text": [
      "16487 2060 2062 20609 20609\n",
      "['9262', 'OC(=O)[C@]([H])(C1CCCN1)NC(=O)[C@]([H])(CC1=CNC=N1)NC(=O)[C@]([H])(CC(C)C)NC(=O)[C@]([H])(CC(C)C)NC(=O)[C@]([H])(C1CCCN1)N', 'peptide']\n",
      "[2, 0, 0, 2, 1, 1, 0, 0, 1, 1, 2, 1, 1, 0, 0, 0, 0, 0, 2, 1, 0, 1, 0, 1, 1, 2, 2, 0, 2, 2, 0, 1, 1, 2, 2, 0, 1, 0, 0, 2, 2, 2, 0, 2, 0, 1, 2, 0, 2, 2, 2, 0, 0, 0, 0, 2, 1, 1, 0, 0, 2, 0, 2, 1, 2, 1, 2, 2, 0, 1, 2, 0, 1, 1, 2, 2, 0, 1, 0, 1, 0, 0, 1, 1, 0, 2, 2, 1, 2, 0, 0, 0, 2, 0, 0, 2, 2, 0, 2, 2, 1, 1, 2, 0, 1, 2, 0, 0, 0, 0, 2, 2, 2, 0, 0, 2, 1, 1, 0, 1, 1, 2, 1, 0, 1, 2, 0, 1, 2, 1, 0, 1, 1, 1, 1, 1, 2, 0, 0, 2, 2, 1, 2, 2, 2, 0, 0, 1, 1, 1, 2, 0, 1, 1, 1, 1, 2, 2, 1, 0, 2, 2, 0, 2, 0, 0, 0, 0, 0, 2, 1, 2, 0, 2, 1, 1, 0, 1, 2, 0, 0, 0, 1, 0, 0, 2, 0, 2, 0, 1, 2, 0, 0, 0, 1, 2, 1, 0, 1, 2, 0, 0, 1, 1, 0, 0, 0, 2, 1, 1, 2, 2, 0, 2, 0, 2, 1, 0, 1, 0, 1, 1, 0, 0, 0, 0, 0, 2, 2, 2, 2, 0, 1, 0, 2, 2, 1, 1, 2, 0, 1, 1, 2, 1, 0, 0, 1, 0, 1, 2, 2, 0, 2, 2, 2, 2, 2, 0, 2, 2, 0, 0, 2, 1, 2, 0, 0, 1, 0, 2, 2, 2, 0, 1, 2, 2, 0, 1, 0, 1, 2, 2, 1, 2, 2, 2, 0, 1, 1, 1, 1, 1, 1, 1, 2, 0, 1, 1, 1, 0, 1, 2, 0, 2, 1, 2, 2, 1, 2, 1, 1, 0, 2, 1, 0, 2, 1, 0, 2, 0, 2, 0, 0, 0, 0, 2, 0, 1, 0, 1, 1, 1, 1, 1, 1, 0, 1, 2, 0, 0, 2, 2, 0, 1, 1, 2, 0, 1, 2, 1, 1, 1, 0, 0, 2, 0, 2, 0, 0, 0, 1, 1, 2, 0, 0, 1, 1, 1, 1, 0, 2, 2, 1, 2, 0, 1, 0, 2, 0, 1, 2, 1, 2, 1, 2, 1, 2, 0, 2, 2, 1, 2, 0, 2, 0, 2, 2, 0, 0, 1, 0, 0, 1, 0, 1, 1, 0, 1, 2, 2, 1, 1, 0, 1, 1, 0, 2, 0, 2, 2, 0, 1, 0, 2, 2, 1, 0, 2, 2, 1, 2, 2, 2, 0, 0, 1, 2, 0, 2, 1, 2, 2, 0, 2, 1, 2, 2, 0, 1, 2, 0, 2, 2, 2, 2, 0, 0, 0, 1, 0, 1, 1, 0, 0, 0, 0, 2, 0, 1, 2, 2, 0, 2, 2, 1, 1, 2, 2, 2, 0, 2, 2, 0, 1, 2, 2, 2, 2, 0, 1, 0, 0, 1, 0, 2, 0, 2, 2, 2, 0, 2, 2, 0, 0, 1, 0, 2, 0, 0, 1, 2, 1, 1, 2, 2, 2, 0, 0, 2, 2, 2, 2, 0, 0, 0, 0, 1, 2, 0, 0, 0, 2, 2, 1, 2, 2, 2, 1, 1, 1, 2, 0, 1, 0, 0, 1, 0, 0, 0, 2, 0, 2, 2, 1, 0, 2, 1, 1, 1, 1, 0, 1, 1, 1, 2, 1, 0, 2, 1, 1, 0, 1, 2, 0, 1, 2, 2, 1, 2, 1, 1, 2, 0, 2, 2, 2, 2, 2, 0, 0, 0, 0, 2, 1, 1, 2, 0, 2, 2, 1, 1, 1, 2, 0, 0, 1, 0, 2, 2, 0, 0, 2, 0, 1, 1, 0, 2, 2, 2, 2, 1, 1, 0, 0, 0, 2, 0, 2, 0, 0, 0, 0, 0, 2, 0, 1, 1, 2, 0, 0, 1, 0, 2, 1, 2, 0, 2, 0, 2, 2, 0, 1, 1, 2, 1, 0, 0, 2, 0, 2, 2, 2, 0, 1, 2, 0, 0, 0, 0, 2, 0, 1, 0, 2, 0, 2, 1, 2, 1, 2, 0, 0, 2, 0, 1, 1, 0, 1, 2, 1, 1, 2, 2, 0, 0, 2, 1, 2, 2, 0, 2, 2, 1, 0, 0, 2, 1, 2, 2, 0, 2, 2, 1, 2, 0, 2, 2, 0, 0, 2, 2, 2, 0, 2, 2, 2, 1, 1, 2, 0, 0, 1, 0, 1, 0, 0, 0, 0, 0, 2, 2, 0, 2, 2, 2, 1, 1, 0, 2, 0, 0, 1, 1, 1, 1, 1, 1, 0, 1, 1, 0, 1, 1, 0, 0, 1, 2, 2, 2, 1, 1, 0, 0, 0, 1, 0, 1, 1, 1, 0, 0, 0, 1, 2, 2, 0, 0, 2, 0, 1, 0, 1, 2, 0, 2, 0, 1, 2, 2, 1, 2, 2, 1, 1, 2, 0, 2, 2, 1, 0, 1, 0, 1, 1, 0, 1, 1, 2, 2, 2, 2, 1, 1, 2, 0, 2, 2, 2, 2, 0, 2, 2, 2, 2, 0, 0, 2, 2, 1, 2, 0, 2, 2, 2, 2, 1, 1, 1, 0, 1, 0, 2, 2, 0, 1, 1, 2, 0, 1, 1, 1, 1, 1, 2, 1, 0, 0, 2, 0, 0, 1, 1, 2, 2, 0, 1, 1, 2, 2, 1, 2, 1, 0, 1, 0, 0, 1, 2, 1, 1, 2, 1, 0, 1, 2, 1, 2, 2, 2, 0, 2, 2, 0, 0, 1, 1, 2, 1, 0, 2, 2, 1, 1, 1, 0, 2, 0, 2, 2, 2, 0, 0, 0, 1, 1, 1, 2, 1, 1, 2, 0, 0, 1, 0, 1, 2, 2, 0, 2, 1, 0, 1, 1, 1, 2, 1, 0, 1, 1, 1, 1, 2, 1, 0, 2, 1, 2, 1, 0, 0, 1, 2, 0, 1, 0, 1, 1, 1, 0, 2, 0, 2, 0, 2, 2, 0, 2, 0, 0, 1, 1, 0, 1, 1, 1, 1, 0, 2, 0, 0, 1, 0, 2, 0, 1, 1, 2, 2, 0, 2, 0, 1, 2, 1, 2, 0, 0, 1, 2, 2, 1, 1, 2, 2, 1, 0, 1, 2, 1, 1, 0, 2, 0, 1, 0, 1, 1, 0, 2, 0, 0, 2, 2, 0, 2, 2, 0, 2, 2, 2, 2, 0, 0, 2, 0, 2, 2, 2, 0, 0, 2, 0, 1, 1, 0, 1, 2, 0, 1, 1, 0, 1, 0, 2, 2, 1, 1, 0, 2, 2, 0, 0, 0, 0, 1, 2, 1, 1, 0, 1, 2, 0, 0, 2, 1, 2, 1, 1, 2, 0, 2, 1, 0, 0, 1, 0, 2, 0, 0, 1, 1, 1, 1, 1, 0, 2, 2, 0, 0, 0, 1, 2, 1, 0, 0, 1, 1, 1, 2, 1, 0, 0, 0, 2, 2, 1, 0, 1, 1, 0, 1, 1, 1, 1, 2, 1, 2, 0, 2, 2, 0, 1, 2, 0, 0, 1, 2, 0, 1, 1, 0, 0, 0, 1, 1, 1, 2, 2, 1, 0, 1, 0, 1, 0, 1, 0, 2, 1, 0, 1, 0, 1, 1, 1, 2, 0, 2, 2, 2, 1, 1, 0, 1, 0, 0, 2, 0, 1, 0, 2, 1, 1, 2, 2, 0, 1, 2, 0, 0, 1, 0, 1, 1, 0, 1, 0, 0, 0, 0, 2, 1, 2, 2, 1, 0, 0, 0, 0, 2, 0, 2, 1, 2, 2, 1, 0, 2, 0, 2, 0, 2, 0, 2, 1, 0, 1, 2, 2, 1, 2, 1, 1, 2, 0, 1, 0, 2, 2, 2, 2, 2, 2, 2, 2, 0, 2, 2, 1, 1, 0, 0, 0, 1, 2, 1, 1, 1, 2, 1, 0, 0, 0, 1, 2, 1, 2, 0, 0, 1, 2, 0, 2, 0, 2, 2, 2, 0, 0, 0, 0, 1, 0, 1, 1, 0, 0, 1, 0, 0, 0, 2, 1, 2, 2, 0, 1, 0, 1, 1, 1, 0, 1, 0, 2, 0, 2, 1, 0, 1, 0, 2, 2, 0, 1, 1, 1, 1, 0, 2, 0, 1, 1, 1, 0, 2, 1, 0, 2, 0, 0, 1, 0, 2, 1, 0, 1, 1, 1, 2, 1, 2, 0, 2, 1, 1, 2, 1, 2, 0, 2, 0, 2, 2, 0, 1, 2, 1, 1, 0, 0, 0, 2, 2, 1, 2, 2, 0, 2, 1, 1, 1, 0, 0, 1, 0, 2, 0, 0, 1, 2, 2, 1, 2, 2, 2, 2, 1, 0, 1, 1, 0, 1, 2, 1, 1, 1, 1, 1, 2, 0, 1, 2, 2, 0, 2, 2, 2, 2, 0, 0, 1, 2, 2, 2, 2, 0, 1, 0, 1, 2, 1, 0, 2, 0, 0, 0, 0, 2, 0, 2, 1, 1, 1, 1, 0, 2, 0, 2, 0, 1, 0, 2, 2, 2, 1, 1, 2, 2, 0, 1, 0, 1, 1, 1, 1, 2, 2, 1, 2, 1, 2, 2, 1, 2, 1, 2, 2, 0, 2, 2, 1, 1, 2, 2, 1, 0, 1, 1, 2, 0, 2, 2, 1, 0, 0, 1, 1, 1, 2, 2, 1, 1, 0, 2, 1, 0, 2, 2, 2, 2, 1, 1, 2, 2, 0, 2, 1, 0, 1, 0, 2, 2, 1, 1, 2, 0, 2, 2, 0, 2, 1, 2, 1, 0, 1, 2, 1, 2, 0, 2, 0, 1, 1, 0, 2, 1, 0, 2, 2, 0, 2, 1, 0, 1, 0, 2, 1, 0, 1, 1, 2, 2, 1, 0, 1, 1, 2, 2, 1, 2, 0, 2, 2, 0, 1, 1, 0, 0, 1, 2, 2, 0, 2, 0, 2, 1, 2, 1, 1, 0, 0, 0, 2, 1, 0, 2, 0, 1, 0, 0, 0, 0, 0, 1, 0, 2, 2, 1, 2, 1, 0, 0, 1, 1, 1, 2, 2, 2, 2, 1, 1, 2, 1, 0, 0, 0, 2, 1, 1, 2, 0, 0, 1, 1, 0, 0, 0, 1, 1, 1, 1, 2, 0, 0, 0, 2, 1, 2, 2, 2, 1, 1, 2, 0, 0, 2, 0, 1, 1, 0, 0, 2, 2, 0, 0, 2, 1, 2, 2, 2, 0, 0, 2, 2, 0, 0, 1, 0, 0, 0, 2, 2, 0, 0, 0, 1, 1, 0, 0, 1, 0, 0, 0, 2, 1, 2, 0, 1, 0, 1, 2, 0, 2, 2, 2, 2, 0, 0, 2, 2, 1, 0, 2, 0, 0, 0, 2, 0, 0, 0, 1, 2, 0, 1, 2, 2, 2, 2, 1, 1, 1, 2, 2, 0, 1, 2, 1, 1, 2, 2, 1, 0, 1, 2, 0, 2, 0, 0, 1, 2, 2, 0, 0, 0, 2, 0, 1, 0, 0, 0, 1, 2, 2, 0, 1, 0, 2, 2, 1, 1, 0, 0, 0, 0, 2, 1, 2, 1, 1, 1, 2, 1, 1, 1, 1, 0, 0, 2, 2, 2, 1, 1, 0, 2, 2, 0, 2, 1, 1, 2, 0, 0, 2, 1, 0, 1, 1, 2, 1, 0, 0, 0, 0, 2, 1, 2, 0, 2, 2, 1, 1, 1, 2, 1, 1, 0, 0, 1, 1, 2, 0, 1, 0, 2, 2, 0, 2, 2, 2, 0, 0, 1, 0, 2, 0, 0, 1, 0, 2, 2, 2, 2, 0, 1, 2, 2, 2, 0, 2, 0, 1, 2, 2, 0, 1, 1, 0, 0, 1, 2, 1, 2, 2, 1, 1, 1, 0, 0, 0, 0, 2, 2, 0, 1, 1, 2, 1, 1, 2, 1, 0, 1, 2, 1, 2, 2, 0, 2, 0, 2, 0, 0, 0, 0, 0, 1, 0, 2, 1, 1, 2, 2, 1, 1, 2, 2, 2, 0, 0, 0, 2, 0, 0, 1, 1, 1, 1, 0, 2, 1, 1, 1, 0, 1, 1, 1, 0, 0, 2, 0, 0, 0, 1, 1, 2, 2, 2, 2, 2, 1, 1, 2, 2, 0, 0, 0, 1, 1, 1, 2, 2, 0, 1, 0, 2, 2, 1, 2, 2, 0, 2, 1, 2, 1, 2, 0, 0, 1, 2, 1, 0, 0, 1, 0, 1, 2, 0, 1, 0, 2, 1, 2, 0, 0, 0, 1, 1, 1, 2, 2, 1, 0, 1, 0, 2, 1, 2, 1, 1, 0, 2, 0, 0, 0, 0, 0, 2, 0, 1, 2, 2, 0, 1, 0, 2, 2, 1, 0, 1, 1, 0, 1, 0, 1, 0, 0, 0, 2, 2, 2, 1, 1, 2, 0, 2, 1, 1, 1, 1, 0, 0, 0, 1, 1, 0, 0, 0, 0, 1, 1]\n"
     ]
    }
   ],
   "source": [
    "line_count = len(rows)\n",
    "indices = np.arange(line_count)\n",
    "indices_fin = np.arange(len(fingerprints))\n",
    "np.random.shuffle(indices)\n",
    "split_train = 80\n",
    "split_validation = 10\n",
    "split_test = 10\n",
    "train_end = int(line_count * split_train / 100)\n",
    "val_end = train_end + int(line_count * split_validation / 100)\n",
    "train_end_fin = int(len(fingerprints) * split_train / 100)\n",
    "val_end_fin = train_end_fin + int(len(fingerprints) * split_validation / 100)\n",
    "# Split data\n",
    "train = [rows[i] for i in indices[:train_end]]\n",
    "validation = [rows[i] for i in indices[train_end:val_end]]\n",
    "test = [rows[i] for i in indices[val_end:]]\n",
    "# Fingerprint data\n",
    "fin_rows = [fingerprints[i] for i in indices_fin[:]]\n",
    "fin_train = [fingerprints[i] for i in indices_fin[:train_end_fin]]\n",
    "fin_validation = [fingerprints[i] for i in indices_fin[train_end_fin:val_end_fin]]\n",
    "fin_test = [fingerprints[i] for i in indices_fin[val_end_fin:]]\n",
    "#Labels data\n",
    "label_train = [train[i][2] for i in range(len(train))]\n",
    "label_validation = [validation[i][2] for i in range(len(validation))]\n",
    "label_test = [test[i][2] for i in range(len(test))]\n",
    "label = [rows[i][2] for i in range(len(train+validation+test))]\n",
    "#Change strings to integers\n",
    "for i in range(len(label_train)):\n",
    "    if label_train[i] == 'peptide':\n",
    "        label_train[i] = 0\n",
    "    if label_train[i] == 'plastic':\n",
    "        label_train[i] = 1\n",
    "    if label_train[i] == 'oligosaccharide':\n",
    "        label_train[i] = 2\n",
    "for i in range(len(label_validation)):\n",
    "    if label_validation[i] == 'peptide':\n",
    "        label_validation[i] = 0\n",
    "    if label_validation[i] == 'plastic':\n",
    "        label_validation[i] = 1\n",
    "    if label_validation[i] == 'oligosaccharide':\n",
    "        label_validation[i] = 2\n",
    "for i in range(len(label_test)):\n",
    "    if label_test[i] == 'peptide':\n",
    "        label_test[i] = 0\n",
    "    if label_test[i] == 'plastic':\n",
    "        label_test[i] = 1\n",
    "    if label_test[i] == 'oligosaccharide':\n",
    "        label_test[i] = 2\n",
    "for i in range(len(label)):\n",
    "    if label[i] == 'peptide':\n",
    "        label[i] = 0\n",
    "    if label[i] == 'plastic':\n",
    "        label[i] = 1\n",
    "    if label[i] == 'oligosaccharide':\n",
    "        label[i] = 2\n",
    "print(len(train),len(validation),len(test),len(train)+len(validation)+len(test),len(rows))\n",
    "print(test[len(test)-1])\n",
    "print(label_validation)"
   ]
  },
  {
   "cell_type": "code",
   "execution_count": 12,
   "id": "b36fbaa1",
   "metadata": {},
   "outputs": [
    {
     "data": {
      "image/png": "[encoded data removed]",
      "text/plain": [
       "<rdkit.Chem.rdchem.Mol at 0x7f537ef42f30>"
      ]
     },
     "execution_count": 12,
     "metadata": {},
     "output_type": "execute_result"
    }
   ],
   "source": [
    "index = 1\n",
    "mol = Chem.MolFromSmiles(train[index][1])\n",
    "mol"
   ]
  },
  {
   "cell_type": "code",
   "execution_count": 44,
   "id": "568f4a41",
   "metadata": {},
   "outputs": [
    {
     "name": "stdout",
     "output_type": "stream",
     "text": [
      "[0, 1, 0, 0, 0, 0, 0, 0, 0, 0, 1, 0, 0, 0, 0, 0, 0, 1, 0, 0, 0, 0, 0, 0, 0, 0, 0, 0, 0, 0, 0, 0, 0, 0, 0, 0, 0, 0, 0, 0, 0, 0, 0, 0, 0, 0, 0, 0, 0, 0, 0, 0, 0, 0, 0, 0, 0, 0, 0, 0, 0, 0, 0, 0, 0, 0, 0, 0, 0, 0, 0, 0, 0, 0, 0, 0, 0, 0, 0, 0, 1, 0, 0, 0, 0, 0, 0, 0, 0, 0, 0, 0, 0, 0, 0, 0, 0, 0, 0, 0, 0, 0, 0, 0, 0, 0, 0, 0, 0, 0, 0, 0, 0, 0, 0, 0, 0, 0, 0, 0, 0, 0, 0, 0, 0, 0, 0, 0, 0, 0, 0, 0, 0, 0, 0, 0, 0, 0, 0, 0, 0, 0, 0, 1, 0, 0, 0, 0, 0, 0, 0, 0, 0, 0, 0, 0, 0, 0, 0, 0, 0, 0, 0, 0, 0, 0, 0, 0, 0, 0, 0, 0, 0, 0, 0, 0, 0, 0, 0, 0, 0, 0, 0, 0, 0, 0, 0, 0, 0, 0, 0, 0, 0, 0, 0, 0, 0, 0, 0, 0, 0, 0, 0, 0, 0, 0, 0, 0, 0, 0, 0, 0, 0, 0, 0, 0, 0, 0, 0, 0, 0, 0, 0, 0, 0, 1, 0, 0, 0, 0, 0, 0, 0, 0, 0, 0, 0, 0, 0, 0, 0, 0, 0, 0, 0, 0, 0, 0, 0, 0, 0, 0, 0, 0, 0, 0, 0, 0, 0, 0, 0, 0, 0, 0, 0, 0, 0, 0, 0, 0, 0, 0, 0, 0, 0, 0, 0, 0, 0, 0, 0, 0, 0, 1, 0, 0, 0, 0, 0, 0, 0, 0, 0, 0, 0, 0, 0, 0, 0, 0, 0, 0, 0, 0, 0, 0, 0, 0, 0, 0, 0, 0, 0, 0, 0, 0, 0, 0, 0, 0, 0, 0, 0, 0, 0, 0, 0, 0, 0, 0, 0, 0, 0, 0, 0, 0, 0, 0, 0, 0, 0, 0, 0, 0, 0, 0, 0, 0, 0, 0, 0, 0, 0, 0, 0, 0, 0, 0, 0, 0, 0, 0, 0, 0, 0, 0, 0, 0, 0, 0, 0, 0, 0, 0, 0, 0, 0, 0, 0, 0, 0, 0, 0, 0, 0, 0, 0, 0, 0, 1, 0, 0, 0, 0, 0, 0, 0, 0, 0, 0, 0, 0, 0, 0, 0, 0, 0, 0, 0, 0, 0, 0, 0, 0, 0, 0, 0, 0, 0, 0, 0, 0, 0, 0, 0, 0, 0, 0, 0, 0, 0, 0, 0, 0, 0, 0, 0, 0, 0, 0, 0, 0, 0, 0, 0, 0, 0, 0, 0, 0, 0, 0, 0, 0, 0, 0, 0, 0, 0, 0, 0, 0, 0, 0, 0, 0, 0, 0, 0, 0, 0, 0, 0, 0, 0, 0, 0, 0, 0, 0, 0, 0, 0, 0, 0, 0, 0, 0, 0, 0, 0, 0, 0, 0, 0, 0, 0, 0, 0, 0, 0, 0, 0, 0, 0, 0, 0, 0, 0, 0, 0, 0, 0, 0, 0, 0, 0, 0, 0, 0, 0, 0, 0, 0, 0, 0, 0, 0, 0, 0, 0, 0, 0, 0, 0, 0, 0, 0, 0, 0, 0, 0, 0, 0, 0, 0, 0, 0, 0, 0, 0, 0, 0, 0, 0, 0, 0, 0, 0, 0, 0, 0, 0, 0, 0, 0, 0, 0, 0, 0, 0, 0, 0, 0, 0, 0, 0, 0, 0, 0, 0, 0, 0, 0, 0, 0, 0, 0, 0, 0, 0, 0, 0, 0, 0, 0, 0, 0, 0, 0, 0, 0, 0, 0, 0, 0, 0, 0, 0, 0, 0, 0, 0, 0, 0, 0, 0, 0, 0, 0, 0, 0, 0, 0, 0, 0, 0, 0, 0, 0, 0, 0, 0, 0, 0, 0, 0, 0, 0, 0, 0, 0, 0, 0, 0, 0, 1, 0, 0, 0, 0, 0, 0, 0, 0, 0, 0, 0, 0, 0, 0, 0, 0, 0, 0, 0, 0, 0, 0, 0, 0, 0, 0, 0, 0, 0, 0, 0, 0, 0, 0, 0, 1, 0, 0, 0, 0, 0, 0, 0, 0, 0, 0, 0, 0, 0, 0, 0, 0, 0, 0, 0, 0, 0, 0, 0, 0, 0, 0, 0, 0, 0, 0, 0, 0, 0, 0, 0, 0, 0, 0, 0, 0, 0, 0, 0, 0, 0, 0, 0, 0, 0, 0, 0, 0, 0, 0, 0, 0, 1, 0, 0, 0, 0, 0, 0, 0, 0, 0, 0, 0, 0, 0, 0, 0, 0, 0, 0, 0, 0, 0, 0, 0, 0, 0, 0, 0, 0, 0, 0, 0, 0, 0, 0, 0, 0, 0, 0, 0, 0, 0, 0, 0, 0, 0, 0, 0, 0, 0, 0, 0, 0, 0, 0, 0, 0, 0, 0, 0, 0, 0, 0, 0, 0, 0, 0, 0, 0, 0, 0, 0, 0, 0, 0, 0, 0, 0, 0, 0, 0, 0, 0, 0, 0, 0, 0, 0, 0, 0, 0, 0, 0, 0, 0, 0, 0, 0, 0, 0, 0, 0, 0, 0, 0, 0, 0, 0, 0, 0, 0, 0, 0, 0, 0, 0, 0, 0, 0, 0, 0, 0, 0, 0, 0, 0, 0, 0, 0, 0, 0, 0, 0, 0, 0, 0, 0, 0, 0, 0, 0, 0, 0, 0, 0, 0, 0, 0, 0, 0, 0, 0, 0, 0, 0, 0, 0, 0, 0, 0, 0, 0, 0, 0, 0, 0, 0, 0, 0, 0, 0, 0, 0, 0, 0, 1, 0, 0, 0, 0, 0, 0, 0, 0, 0, 0, 0, 0, 0, 0, 0, 0, 0, 0, 0, 0, 0, 0, 0, 0, 0, 0, 0, 0, 0, 0, 0, 0, 0, 0, 0, 0, 0, 0, 0, 0, 0, 0, 0, 0, 0, 0, 1, 0, 0, 0, 0, 0, 0, 0, 0, 0, 0, 0, 0, 0, 0, 0, 0, 0, 0, 0, 0, 0, 0, 0, 0, 0, 0, 0, 0, 0, 0, 0, 0, 0, 0, 0, 0, 0, 0, 0, 0, 0, 0, 0, 0, 0, 0, 0, 0, 0, 0, 0, 0, 0, 0, 0, 0, 0, 0, 0, 0, 0, 0, 0, 0, 0, 0, 0, 0, 0, 0, 0, 0, 0, 0, 0, 0, 0, 0, 0, 0, 0, 0, 0, 0, 0, 0, 0, 0, 0, 0, 0, 0, 0, 0, 0, 1, 0, 0, 0, 0, 0, 0, 0, 0, 0, 0, 0, 0, 0, 0, 0, 0, 0, 0, 0, 0, 0, 0, 0, 0, 0, 0, 0, 0, 0, 0, 1, 0, 0, 0, 0, 0, 0, 0, 0, 0, 0, 0, 0, 0, 0, 0, 0, 0, 0, 0, 0, 1, 0, 0, 0, 0, 0, 0, 0, 0, 0, 0, 0, 0, 0, 0, 0, 0, 0, 0, 1, 0, 0, 0, 0, 0, 0, 0, 0, 0, 0, 0, 0, 0, 0, 0, 0, 0, 0, 0, 0, 0, 0, 0, 0, 0, 0, 0, 0, 0, 0, 0, 0, 0, 0, 0, 0, 0, 0, 0, 0, 0, 0, 1, 0, 0, 0, 0, 0, 0, 0, 0, 0, 0, 0, 0, 0, 0, 0, 0, 1, 0, 0, 0, 0, 0, 0, 0, 0, 0, 0, 1, 0, 0, 0, 0, 0, 0, 0, 0, 0, 0, 0, 0, 0, 0, 0, 0, 0, 0, 0, 0, 0, 0, 0, 0, 0, 0, 0, 0, 0, 0, 0, 0, 0, 0, 0, 0, 0, 0, 0, 0, 0, 0, 0, 0, 0, 0, 0, 0, 1, 0, 0, 0, 0, 0, 0, 0, 0, 0, 0, 0, 0, 0, 0, 0, 0, 0, 0, 0, 0, 0, 0, 0, 0, 0, 0, 0, 0, 0, 0, 0, 0, 0, 0, 0, 0, 0, 0, 0, 0, 0, 0, 0, 0, 0, 0, 0, 0, 0, 0, 0, 1, 0, 0, 0, 0, 0, 0, 0, 0, 0, 0, 0, 0, 0, 0, 0, 0, 0, 0, 0, 0, 0, 0, 1, 0, 0, 0, 0, 0, 0, 0, 0, 0, 0, 0, 0, 0, 0, 0, 0, 0, 0, 0, 0, 0, 0, 0, 0, 0, 0, 0, 0, 0, 0, 0, 0, 0, 0, 0, 0, 0, 1, 0, 0, 0, 1, 0, 0, 0, 0, 0, 0, 0, 0, 0, 0, 0, 0, 0, 0, 1, 0, 0, 0, 0, 0, 0, 0, 0, 0, 0, 0, 0, 0, 0, 0, 0, 0, 0, 0, 0, 0, 0, 0, 0, 0, 0, 0, 0, 0, 0, 0, 0, 0, 0, 0, 0, 0, 0, 0, 0, 0, 0, 0, 0, 0, 0, 0, 0, 0, 0, 0, 0, 0, 0, 0, 0, 1, 0, 0, 0, 0, 0, 0, 1, 0, 0, 0, 0, 0, 0, 0, 1, 0, 0, 0, 1, 0, 0, 0, 0, 0, 0, 0, 0, 0, 0, 0, 0, 0, 0, 0, 0, 0, 0, 0, 0, 0, 0, 0, 0, 0, 0, 0, 0, 0, 0, 0, 0, 0, 0, 0, 0, 0, 0, 0, 0, 0, 0, 0, 0, 0, 0, 0, 0, 0, 0, 0, 0, 0, 0, 0, 0, 0, 0, 0, 0, 0, 0, 0, 0, 0, 0, 0, 0, 0, 0, 0, 0, 0, 0, 0, 0, 0, 0, 0, 0, 0, 0, 0, 0, 0, 0, 0, 0, 0, 0, 0, 0, 0, 0, 0, 0, 0, 0, 0, 0, 0, 0, 0, 0, 0, 0, 0, 0, 0, 0, 0, 0, 0, 0, 0, 0, 0, 0, 0, 0, 0, 0, 0, 0, 1, 0, 0, 0, 0, 0, 0, 0, 0, 0, 0, 0, 0, 0, 0, 0, 0, 0, 0, 0, 0, 0, 0, 0, 0, 0, 0, 0, 0, 0, 0, 0, 0, 0, 0, 0, 0, 0, 0, 0, 0, 0, 0, 0, 0, 0, 0, 0, 0, 0, 0, 0, 0, 0, 0, 0, 0, 0, 0, 0, 0, 0, 0, 0, 0, 0, 0, 0, 0, 0, 0, 0, 0, 0, 0, 0, 0, 0, 0, 0, 0, 0, 0, 0, 0, 0, 0, 0, 0, 0, 0, 0, 0, 0, 0, 0, 0, 0, 0, 0, 0, 0, 1, 0, 0, 0, 0, 0, 0, 0, 0, 0, 0, 0, 0, 0, 0, 0, 0, 0, 0, 0, 0, 0, 0, 0, 0, 0, 0, 0, 0, 0, 0, 0, 0, 0, 0, 0, 0, 0, 0, 0, 0, 0, 0, 0, 0, 0, 0, 0, 0, 0, 0, 0, 0, 0, 0, 0, 0, 0, 0, 0, 0, 0, 0, 0, 0, 0, 0, 1, 1, 0, 0, 0, 0, 0, 0, 0, 0, 0, 0, 0, 0, 0, 0, 0, 0, 0, 0, 0, 0, 0, 0, 0, 0, 0, 0, 0, 0, 0, 0, 0, 0, 0, 0, 0, 0, 0, 0, 0, 0, 0, 0, 0, 0, 0, 0, 0, 0, 0, 0, 0, 0, 0, 0, 0, 0, 0, 0, 0, 0, 0, 0, 0, 0, 0, 0, 0, 0, 0, 0, 0, 0, 0, 0, 0, 0, 0, 0, 0, 0, 0, 0, 0, 0, 0, 0, 0, 0, 0, 0, 0, 0, 0, 0, 0, 0, 0, 0, 0, 0, 0, 0, 0, 1, 0, 0, 0, 0, 0, 0, 0, 0, 0, 0, 0, 0, 0, 0, 0, 0, 0, 1, 0, 0, 0, 0, 0, 1, 0, 0, 0, 0, 0, 0, 0, 0, 0, 0, 0, 0, 0, 0, 0, 0, 0, 0, 0, 0, 0, 0, 0, 0, 0, 0, 0, 0, 0, 0, 0, 1, 0, 0, 0, 0, 0, 0, 0, 0, 0, 0, 0, 0, 0, 0, 0, 0, 0, 0, 0, 0, 0, 0, 0, 0, 0, 0, 0, 0, 0, 0, 0, 0, 0, 0, 0, 1, 0, 0, 0, 1, 0, 0, 0, 0, 0, 0, 0, 0, 0, 0, 0, 0, 0, 0, 0, 0, 0, 0, 0, 0, 0, 0, 0, 0, 0, 0, 0, 0, 0, 0, 0, 0, 0, 0, 0, 0, 0, 0, 0, 0, 0, 0, 0, 0, 0, 0, 0, 0, 0, 0, 0, 0, 0, 0, 0, 0, 0, 0, 0, 0, 0, 0, 0, 0, 0, 0, 0, 0, 0, 0, 0, 0, 0, 0, 0, 0, 0, 0, 0, 0, 0, 0, 0, 0, 0, 0, 0, 0, 0, 1, 0, 0, 0, 0, 0, 0]\n",
      "tensor([[0., 1., 0.,  ..., 0., 0., 0.],\n",
      "        [0., 1., 0.,  ..., 0., 0., 0.],\n",
      "        [0., 0., 0.,  ..., 0., 0., 0.],\n",
      "        [0., 1., 0.,  ..., 0., 0., 0.],\n",
      "        [0., 1., 0.,  ..., 0., 0., 0.]]) tensor([1, 0, 2, 1, 1])\n",
      "torch.FloatTensor torch.LongTensor\n"
     ]
    }
   ],
   "source": [
    "# Import dependencies\n",
    "import torch\n",
    "import matplotlib.pyplot as plt\n",
    "from sklearn.datasets import make_blobs\n",
    "from sklearn.model_selection import train_test_split\n",
    "\n",
    "# Set the hyperparameters for data creation\n",
    "NUM_CLASSES = 3\n",
    "NUM_FEATURES = 2048\n",
    "RANDOM_SEED = 42\n",
    "\n",
    "# 1. Create multi-class data\n",
    "#X_blob, y_blob = make_blobs(n_samples=1000,\n",
    "#    n_features=NUM_FEATURES, # X features\n",
    "#    centers=NUM_CLASSES, # y labels \n",
    "#   cluster_std=1.5, # give the clusters a little shake up (try changing this to 1.0, the default)\n",
    "#    random_state=RANDOM_SEED\n",
    "#)\n",
    "\n",
    "# 2. Turn data into tensors\n",
    "#X_blob = torch.from_numpy(fin_train).type(torch.float)\n",
    "#y_blob = torch.from_numpy(label_train).type(torch.LongTensor)\n",
    "print(fin_rows[0])\n",
    "X_blob = torch.FloatTensor(fin_rows).type(torch.float)\n",
    "y_blob = torch.FloatTensor(label).type(torch.LongTensor)\n",
    "print(X_blob[:5], y_blob[:5])\n",
    "print(X_blob.type(),y_blob.type())\n",
    "\n",
    "# 3. Split into train and test sets\n",
    "X_blob_train, X_blob_test, y_blob_train, y_blob_test = train_test_split(X_blob,\n",
    "    y_blob,\n",
    "    test_size=0.2,\n",
    "    random_state=RANDOM_SEED\n",
    ")\n",
    "\n",
    "# 4. Plot data\n",
    "#plt.figure(figsize=(10, 7))\n",
    "#plt.scatter(X_blob[:, 0], X_blob[:, 1], c=y_blob, cmap=plt.cm.RdYlBu);"
   ]
  },
  {
   "cell_type": "code",
   "execution_count": 45,
   "id": "90f731c3",
   "metadata": {},
   "outputs": [
    {
     "data": {
      "text/plain": [
       "BlobModel(\n",
       "  (linear_layer_stack): Sequential(\n",
       "    (0): Linear(in_features=2048, out_features=128, bias=True)\n",
       "    (1): ReLU()\n",
       "    (2): Linear(in_features=128, out_features=16, bias=True)\n",
       "    (3): ReLU()\n",
       "    (4): Linear(in_features=16, out_features=3, bias=True)\n",
       "    (5): Softmax(dim=1)\n",
       "  )\n",
       ")"
      ]
     },
     "execution_count": 45,
     "metadata": {},
     "output_type": "execute_result"
    }
   ],
   "source": [
    "from torch import nn\n",
    "\n",
    "device = \"cuda\" if torch.cuda.is_available() else \"cpu\"\n",
    "\n",
    "class BlobModel(nn.Module):\n",
    "    def __init__(self, input_features, output_features, hidden_units=8):\n",
    "        \"\"\"Initializes all required hyperparameters for a multi-class classification model.\n",
    "\n",
    "        Args:\n",
    "            input_features (int): Number of input features to the model.\n",
    "            out_features (int): Number of output features of the model\n",
    "              (how many classes there are).\n",
    "            hidden_units (int): Number of hidden units between layers, default 8.\n",
    "        \"\"\"\n",
    "        super().__init__()\n",
    "        self.linear_layer_stack = nn.Sequential(\n",
    "            nn.Linear(in_features=input_features, out_features=128),\n",
    "            nn.ReLU(), # <- does our dataset require non-linear layers? (try uncommenting and see if the results change)\n",
    "            nn.Linear(in_features=128, out_features=16),\n",
    "            nn.ReLU(), # <- does our dataset require non-linear layers? (try uncommenting and see if the results change)\n",
    "            nn.Linear(in_features=16, out_features=output_features), # how many classes are there?\n",
    "            nn.Softmax(dim=1)\n",
    "\n",
    "        )\n",
    "    \n",
    "    def forward(self, x):\n",
    "        x = self.linear_layer_stack(x)\n",
    "        #x = x[0]*0 + x[1]*1 + x[2]*2\n",
    "        return x\n",
    "\n",
    "# Create an instance of BlobModel and send it to the target device\n",
    "model_4 = BlobModel(input_features=NUM_FEATURES, \n",
    "                    output_features=NUM_CLASSES, \n",
    "                    hidden_units=64).to(device)\n",
    "model_4"
   ]
  },
  {
   "cell_type": "code",
   "execution_count": 52,
   "id": "b459a3c8",
   "metadata": {},
   "outputs": [],
   "source": [
    "# Create loss and optimizer\n",
    "loss_fn = nn.CrossEntropyLoss()\n",
    "#loss_fn = nn.MSELoss()\n",
    "optimizer = torch.optim.SGD(model_4.parameters(), \n",
    "                            lr=0.1) # exercise: try changing the learning rate here and seeing what happens to the model's performance"
   ]
  },
  {
   "cell_type": "code",
   "execution_count": 53,
   "id": "60115bdf",
   "metadata": {},
   "outputs": [
    {
     "data": {
      "text/plain": [
       "tensor([[0.5686, 0.2069, 0.2245],\n",
       "        [0.5852, 0.2065, 0.2083],\n",
       "        [0.3331, 0.3337, 0.3331],\n",
       "        [0.3436, 0.3373, 0.3191],\n",
       "        [0.2264, 0.2477, 0.5260]], grad_fn=<SliceBackward0>)"
      ]
     },
     "execution_count": 53,
     "metadata": {},
     "output_type": "execute_result"
    }
   ],
   "source": [
    "# Perform a single forward pass on the data (we'll need to put it to the target device for it to work)\n",
    "model_4(X_blob_train.to(device))[:5]"
   ]
  },
  {
   "cell_type": "code",
   "execution_count": 54,
   "id": "d6eda25b",
   "metadata": {},
   "outputs": [
    {
     "data": {
      "text/plain": [
       "(torch.Size([3]), 3)"
      ]
     },
     "execution_count": 54,
     "metadata": {},
     "output_type": "execute_result"
    }
   ],
   "source": [
    "# How many elements in a single prediction sample?\n",
    "model_4(X_blob_train.to(device))[0].shape, NUM_CLASSES "
   ]
  },
  {
   "cell_type": "code",
   "execution_count": 55,
   "id": "a69b5916",
   "metadata": {},
   "outputs": [
    {
     "name": "stdout",
     "output_type": "stream",
     "text": [
      "tensor([[0.3375, 0.3260, 0.3364],\n",
      "        [0.1927, 0.2334, 0.5738],\n",
      "        [0.2294, 0.2404, 0.5302],\n",
      "        ...,\n",
      "        [0.1582, 0.2117, 0.6301],\n",
      "        [0.3284, 0.3344, 0.3372],\n",
      "        [0.3521, 0.3377, 0.3102]], grad_fn=<SoftmaxBackward0>)\n",
      "tensor([[0.3375, 0.3260, 0.3364],\n",
      "        [0.1927, 0.2334, 0.5738],\n",
      "        [0.2294, 0.2404, 0.5302],\n",
      "        [0.1535, 0.2065, 0.6400],\n",
      "        [0.5446, 0.2240, 0.2314]], grad_fn=<SliceBackward0>)\n",
      "tensor([[0.3347, 0.3309, 0.3344],\n",
      "        [0.2853, 0.2971, 0.4176],\n",
      "        [0.2974, 0.3007, 0.4018],\n",
      "        [0.2717, 0.2865, 0.4419],\n",
      "        [0.4070, 0.2954, 0.2976]], grad_fn=<SliceBackward0>)\n"
     ]
    }
   ],
   "source": [
    "# Make prediction logits with model\n",
    "y_logits = model_4(X_blob_test.to(device))\n",
    "\n",
    "print(y_logits)\n",
    "\n",
    "# Perform softmax calculation on logits across dimension 1 to get prediction probabilities\n",
    "y_pred_probs = torch.softmax(y_logits, dim=1) \n",
    "print(y_logits[:5])\n",
    "print(y_pred_probs[:5])"
   ]
  },
  {
   "cell_type": "code",
   "execution_count": 56,
   "id": "d62c77c2",
   "metadata": {},
   "outputs": [],
   "source": [
    "# Calculate accuracy (a classification metric)\n",
    "def accuracy_fn(y_true, y_pred):\n",
    "    correct = torch.eq(y_true, y_pred).sum().item() # torch.eq() calculates where two tensors are equal\n",
    "    acc = (correct / len(y_pred)) * 100 \n",
    "    return acc"
   ]
  },
  {
   "cell_type": "code",
   "execution_count": 57,
   "id": "7a2d501b",
   "metadata": {},
   "outputs": [
    {
     "name": "stdout",
     "output_type": "stream",
     "text": [
      "Epoch: 0 | Loss: 0.94192, Acc: 69.30% | Test Loss: 0.93313, Test Acc: 68.61%\n",
      "Epoch: 10 | Loss: 0.82357, Acc: 76.87% | Test Loss: 0.81963, Test Acc: 77.80%\n",
      "Epoch: 20 | Loss: 0.75853, Acc: 96.89% | Test Loss: 0.75987, Test Acc: 97.65%\n",
      "Epoch: 30 | Loss: 0.72138, Acc: 99.92% | Test Loss: 0.72315, Test Acc: 99.98%\n"
     ]
    }
   ],
   "source": [
    "# Fit the model\n",
    "torch.manual_seed(42)\n",
    "\n",
    "# Set number of epochs\n",
    "epochs = 1000\n",
    "\n",
    "# Put data to target device\n",
    "X_blob_train, y_blob_train = X_blob_train.to(device), y_blob_train.to(device)\n",
    "X_blob_test, y_blob_test = X_blob_test.to(device), y_blob_test.to(device)\n",
    "\n",
    "for epoch in range(epochs):\n",
    "    ### Training\n",
    "    model_4.train()\n",
    "\n",
    "    # 1. Forward pass\n",
    "    y_logits = model_4(X_blob_train) # model outputs raw logits \n",
    "    y_pred = torch.softmax(y_logits, dim=1).argmax(dim=1) # go from logits -> prediction probabilities -> prediction labels\n",
    "    # print(y_logits)\n",
    "    # 2. Calculate loss and accuracy\n",
    "    loss = loss_fn(y_logits, y_blob_train) \n",
    "    acc = accuracy_fn(y_true=y_blob_train,\n",
    "                      y_pred=y_pred)\n",
    "\n",
    "    # 3. Optimizer zero grad\n",
    "    optimizer.zero_grad()\n",
    "\n",
    "    # 4. Loss backwards\n",
    "    loss.backward()\n",
    "\n",
    "    # 5. Optimizer step\n",
    "    optimizer.step()\n",
    "\n",
    "    ### Testing\n",
    "    model_4.eval()\n",
    "    with torch.inference_mode():\n",
    "      # 1. Forward pass\n",
    "      test_logits = model_4(X_blob_test)\n",
    "      test_pred = torch.softmax(test_logits, dim=1).argmax(dim=1)\n",
    "      # 2. Calculate test loss and accuracy\n",
    "      test_loss = loss_fn(test_logits, y_blob_test)\n",
    "      test_acc = accuracy_fn(y_true=y_blob_test,\n",
    "                             y_pred=test_pred)\n",
    "      \n",
    "    if test_acc > 99.99:\n",
    "       break\n",
    "      \n",
    "\n",
    "    # Print out what's happening\n",
    "    if epoch % 10 == 0:\n",
    "        print(f\"Epoch: {epoch} | Loss: {loss:.5f}, Acc: {acc:.2f}% | Test Loss: {test_loss:.5f}, Test Acc: {test_acc:.2f}%\") "
   ]
  },
  {
   "cell_type": "code",
   "execution_count": null,
   "id": "f3fe82d9",
   "metadata": {},
   "outputs": [
    {
     "data": {
      "text/plain": [
       "tensor([1.0145, 0.9834, 1.0021])"
      ]
     },
     "execution_count": 76,
     "metadata": {},
     "output_type": "execute_result"
    }
   ],
   "source": [
    "# Make predictions\n",
    "model_4.eval()\n",
    "with torch.inference_mode():\n",
    "    y_logits = model_4(X_blob_test)\n",
    "\n",
    "# View the first 10 predictions\n",
    "y_logits[:10]"
   ]
  },
  {
   "cell_type": "code",
   "execution_count": 77,
   "id": "6e09febe",
   "metadata": {},
   "outputs": [
    {
     "ename": "IndexError",
     "evalue": "Dimension out of range (expected to be in range of [-1, 0], but got 1)",
     "output_type": "error",
     "traceback": [
      "\u001b[0;31m---------------------------------------------------------------------------\u001b[0m",
      "\u001b[0;31mIndexError\u001b[0m                                Traceback (most recent call last)",
      "\u001b[0;32m/tmp/ipykernel_5255/4265565779.py\u001b[0m in \u001b[0;36m<module>\u001b[0;34m\u001b[0m\n\u001b[1;32m      1\u001b[0m \u001b[0;31m# Turn predicted logits in prediction probabilities\u001b[0m\u001b[0;34m\u001b[0m\u001b[0;34m\u001b[0m\u001b[0;34m\u001b[0m\u001b[0m\n\u001b[0;32m----> 2\u001b[0;31m \u001b[0my_pred_probs\u001b[0m \u001b[0;34m=\u001b[0m \u001b[0mtorch\u001b[0m\u001b[0;34m.\u001b[0m\u001b[0msoftmax\u001b[0m\u001b[0;34m(\u001b[0m\u001b[0my_logits\u001b[0m\u001b[0;34m,\u001b[0m \u001b[0mdim\u001b[0m\u001b[0;34m=\u001b[0m\u001b[0;36m1\u001b[0m\u001b[0;34m)\u001b[0m\u001b[0;34m\u001b[0m\u001b[0;34m\u001b[0m\u001b[0m\n\u001b[0m\u001b[1;32m      3\u001b[0m \u001b[0;34m\u001b[0m\u001b[0m\n\u001b[1;32m      4\u001b[0m \u001b[0;31m# Turn prediction probabilities into prediction labels\u001b[0m\u001b[0;34m\u001b[0m\u001b[0;34m\u001b[0m\u001b[0;34m\u001b[0m\u001b[0m\n\u001b[1;32m      5\u001b[0m \u001b[0my_preds\u001b[0m \u001b[0;34m=\u001b[0m \u001b[0my_pred_probs\u001b[0m\u001b[0;34m.\u001b[0m\u001b[0margmax\u001b[0m\u001b[0;34m(\u001b[0m\u001b[0mdim\u001b[0m\u001b[0;34m=\u001b[0m\u001b[0;36m1\u001b[0m\u001b[0;34m)\u001b[0m\u001b[0;34m\u001b[0m\u001b[0;34m\u001b[0m\u001b[0m\n",
      "\u001b[0;31mIndexError\u001b[0m: Dimension out of range (expected to be in range of [-1, 0], but got 1)"
     ]
    }
   ],
   "source": [
    "# Turn predicted logits in prediction probabilities\n",
    "y_pred_probs = torch.softmax(y_logits, dim=1)\n",
    "\n",
    "# Turn prediction probabilities into prediction labels\n",
    "y_preds = y_pred_probs.argmax(dim=1)\n",
    "\n",
    "# Compare first 10 model preds and test labels\n",
    "print(f\"Predictions: {y_preds[:10]}\\nLabels: {y_blob_test[:10]}\")\n",
    "print(f\"Test accuracy: {accuracy_fn(y_true=y_blob_test, y_pred=y_preds)}%\")"
   ]
  },
  {
   "cell_type": "code",
   "execution_count": 78,
   "id": "2d24cf11",
   "metadata": {},
   "outputs": [],
   "source": [
    "def plot_decision_boundary(model: torch.nn.Module, X: torch.Tensor, y: torch.Tensor):\n",
    "    \"\"\"Plots decision boundaries of model predicting on X in comparison to y.\n",
    "\n",
    "    Source - https://madewithml.com/courses/foundations/neural-networks/ (with modifications)\n",
    "    \"\"\"\n",
    "    # Put everything to CPU (works better with NumPy + Matplotlib)\n",
    "    model.to(\"cpu\")\n",
    "    X, y = X.to(\"cpu\"), y.to(\"cpu\")\n",
    "\n",
    "    # Setup prediction boundaries and grid\n",
    "    x_min, x_max = X[:, 0].min() - 0.1, X[:, 0].max() + 0.1\n",
    "    y_min, y_max = X[:, 1].min() - 0.1, X[:, 1].max() + 0.1\n",
    "    xx, yy = np.meshgrid(np.linspace(x_min, x_max, 101), np.linspace(y_min, y_max, 101))\n",
    "\n",
    "    # Make features\n",
    "    X_to_pred_on = torch.from_numpy(np.column_stack((xx.ravel(), yy.ravel()))).float()\n",
    "\n",
    "    # Make predictions\n",
    "    model.eval()\n",
    "    with torch.inference_mode():\n",
    "        y_logits = model(X_to_pred_on)\n",
    "\n",
    "    # Test for multi-class or binary and adjust logits to prediction labels\n",
    "    if len(torch.unique(y)) > 2:\n",
    "        y_pred = torch.softmax(y_logits, dim=1).argmax(dim=1)  # mutli-class\n",
    "    else:\n",
    "        y_pred = torch.round(torch.sigmoid(y_logits))  # binary\n",
    "\n",
    "    # Reshape preds and plot\n",
    "    y_pred = y_pred.reshape(xx.shape).detach().numpy()\n",
    "    plt.contourf(xx, yy, y_pred, cmap=plt.cm.RdYlBu, alpha=0.7)\n",
    "    plt.scatter(X[:, 0], X[:, 1], c=y, s=40, cmap=plt.cm.RdYlBu)\n",
    "    plt.xlim(xx.min(), xx.max())\n",
    "    plt.ylim(yy.min(), yy.max())\n",
    "\n"
   ]
  }
 ],
 "metadata": {
  "kernelspec": {
   "display_name": "Python 3 (ipykernel)",
   "language": "python",
   "name": "python3"
  },
  "language_info": {
   "codemirror_mode": {
    "name": "ipython",
    "version": 3
   },
   "file_extension": ".py",
   "mimetype": "text/x-python",
   "name": "python",
   "nbconvert_exporter": "python",
   "pygments_lexer": "ipython3",
   "version": "3.7.16"
  }
 },
 "nbformat": 4,
 "nbformat_minor": 5
}
